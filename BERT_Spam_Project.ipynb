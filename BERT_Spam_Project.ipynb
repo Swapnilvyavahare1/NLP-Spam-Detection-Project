{
  "cells": [
    {
      "cell_type": "markdown",
      "metadata": {
        "id": "nNXI8xfRz-p0"
      },
      "source": [
        "# Spam Message Classification Problem"
      ]
    },
    {
      "cell_type": "code",
      "execution_count": 1,
      "metadata": {
        "id": "PfiQpWilzO-k"
      },
      "outputs": [],
      "source": [
        "# Part 1 : import basic package and dataset\n",
        "import os, sys\n",
        "import numpy as np\n",
        "import pandas as pd\n",
        "import matplotlib.pyplot as plt\n",
        "%matplotlib inline\n",
        "import seaborn as sns\n",
        "sns.set()\n",
        "import warnings\n",
        "warnings.filterwarnings('ignore')"
      ]
    },
    {
      "cell_type": "code",
      "execution_count": 2,
      "metadata": {
        "colab": {
          "base_uri": "https://localhost:8080/",
          "height": 206
        },
        "id": "e9kaL8cN0Yd2",
        "outputId": "271928d5-c3b2-479c-d8a7-82f0b25e6099"
      },
      "outputs": [
        {
          "output_type": "execute_result",
          "data": {
            "text/plain": [
              "  label                                            message  length  punct\n",
              "0   ham  Go until jurong point, crazy.. Available only ...     111      9\n",
              "1   ham                      Ok lar... Joking wif u oni...      29      6\n",
              "2  spam  Free entry in 2 a wkly comp to win FA Cup fina...     155      6\n",
              "3   ham  U dun say so early hor... U c already then say...      49      6\n",
              "4   ham  Nah I don't think he goes to usf, he lives aro...      61      2"
            ],
            "text/html": [
              "\n",
              "  <div id=\"df-926c2c9c-8e19-4929-8d41-ca6245040b31\">\n",
              "    <div class=\"colab-df-container\">\n",
              "      <div>\n",
              "<style scoped>\n",
              "    .dataframe tbody tr th:only-of-type {\n",
              "        vertical-align: middle;\n",
              "    }\n",
              "\n",
              "    .dataframe tbody tr th {\n",
              "        vertical-align: top;\n",
              "    }\n",
              "\n",
              "    .dataframe thead th {\n",
              "        text-align: right;\n",
              "    }\n",
              "</style>\n",
              "<table border=\"1\" class=\"dataframe\">\n",
              "  <thead>\n",
              "    <tr style=\"text-align: right;\">\n",
              "      <th></th>\n",
              "      <th>label</th>\n",
              "      <th>message</th>\n",
              "      <th>length</th>\n",
              "      <th>punct</th>\n",
              "    </tr>\n",
              "  </thead>\n",
              "  <tbody>\n",
              "    <tr>\n",
              "      <th>0</th>\n",
              "      <td>ham</td>\n",
              "      <td>Go until jurong point, crazy.. Available only ...</td>\n",
              "      <td>111</td>\n",
              "      <td>9</td>\n",
              "    </tr>\n",
              "    <tr>\n",
              "      <th>1</th>\n",
              "      <td>ham</td>\n",
              "      <td>Ok lar... Joking wif u oni...</td>\n",
              "      <td>29</td>\n",
              "      <td>6</td>\n",
              "    </tr>\n",
              "    <tr>\n",
              "      <th>2</th>\n",
              "      <td>spam</td>\n",
              "      <td>Free entry in 2 a wkly comp to win FA Cup fina...</td>\n",
              "      <td>155</td>\n",
              "      <td>6</td>\n",
              "    </tr>\n",
              "    <tr>\n",
              "      <th>3</th>\n",
              "      <td>ham</td>\n",
              "      <td>U dun say so early hor... U c already then say...</td>\n",
              "      <td>49</td>\n",
              "      <td>6</td>\n",
              "    </tr>\n",
              "    <tr>\n",
              "      <th>4</th>\n",
              "      <td>ham</td>\n",
              "      <td>Nah I don't think he goes to usf, he lives aro...</td>\n",
              "      <td>61</td>\n",
              "      <td>2</td>\n",
              "    </tr>\n",
              "  </tbody>\n",
              "</table>\n",
              "</div>\n",
              "      <button class=\"colab-df-convert\" onclick=\"convertToInteractive('df-926c2c9c-8e19-4929-8d41-ca6245040b31')\"\n",
              "              title=\"Convert this dataframe to an interactive table.\"\n",
              "              style=\"display:none;\">\n",
              "        \n",
              "  <svg xmlns=\"http://www.w3.org/2000/svg\" height=\"24px\"viewBox=\"0 0 24 24\"\n",
              "       width=\"24px\">\n",
              "    <path d=\"M0 0h24v24H0V0z\" fill=\"none\"/>\n",
              "    <path d=\"M18.56 5.44l.94 2.06.94-2.06 2.06-.94-2.06-.94-.94-2.06-.94 2.06-2.06.94zm-11 1L8.5 8.5l.94-2.06 2.06-.94-2.06-.94L8.5 2.5l-.94 2.06-2.06.94zm10 10l.94 2.06.94-2.06 2.06-.94-2.06-.94-.94-2.06-.94 2.06-2.06.94z\"/><path d=\"M17.41 7.96l-1.37-1.37c-.4-.4-.92-.59-1.43-.59-.52 0-1.04.2-1.43.59L10.3 9.45l-7.72 7.72c-.78.78-.78 2.05 0 2.83L4 21.41c.39.39.9.59 1.41.59.51 0 1.02-.2 1.41-.59l7.78-7.78 2.81-2.81c.8-.78.8-2.07 0-2.86zM5.41 20L4 18.59l7.72-7.72 1.47 1.35L5.41 20z\"/>\n",
              "  </svg>\n",
              "      </button>\n",
              "      \n",
              "  <style>\n",
              "    .colab-df-container {\n",
              "      display:flex;\n",
              "      flex-wrap:wrap;\n",
              "      gap: 12px;\n",
              "    }\n",
              "\n",
              "    .colab-df-convert {\n",
              "      background-color: #E8F0FE;\n",
              "      border: none;\n",
              "      border-radius: 50%;\n",
              "      cursor: pointer;\n",
              "      display: none;\n",
              "      fill: #1967D2;\n",
              "      height: 32px;\n",
              "      padding: 0 0 0 0;\n",
              "      width: 32px;\n",
              "    }\n",
              "\n",
              "    .colab-df-convert:hover {\n",
              "      background-color: #E2EBFA;\n",
              "      box-shadow: 0px 1px 2px rgba(60, 64, 67, 0.3), 0px 1px 3px 1px rgba(60, 64, 67, 0.15);\n",
              "      fill: #174EA6;\n",
              "    }\n",
              "\n",
              "    [theme=dark] .colab-df-convert {\n",
              "      background-color: #3B4455;\n",
              "      fill: #D2E3FC;\n",
              "    }\n",
              "\n",
              "    [theme=dark] .colab-df-convert:hover {\n",
              "      background-color: #434B5C;\n",
              "      box-shadow: 0px 1px 3px 1px rgba(0, 0, 0, 0.15);\n",
              "      filter: drop-shadow(0px 1px 2px rgba(0, 0, 0, 0.3));\n",
              "      fill: #FFFFFF;\n",
              "    }\n",
              "  </style>\n",
              "\n",
              "      <script>\n",
              "        const buttonEl =\n",
              "          document.querySelector('#df-926c2c9c-8e19-4929-8d41-ca6245040b31 button.colab-df-convert');\n",
              "        buttonEl.style.display =\n",
              "          google.colab.kernel.accessAllowed ? 'block' : 'none';\n",
              "\n",
              "        async function convertToInteractive(key) {\n",
              "          const element = document.querySelector('#df-926c2c9c-8e19-4929-8d41-ca6245040b31');\n",
              "          const dataTable =\n",
              "            await google.colab.kernel.invokeFunction('convertToInteractive',\n",
              "                                                     [key], {});\n",
              "          if (!dataTable) return;\n",
              "\n",
              "          const docLinkHtml = 'Like what you see? Visit the ' +\n",
              "            '<a target=\"_blank\" href=https://colab.research.google.com/notebooks/data_table.ipynb>data table notebook</a>'\n",
              "            + ' to learn more about interactive tables.';\n",
              "          element.innerHTML = '';\n",
              "          dataTable['output_type'] = 'display_data';\n",
              "          await google.colab.output.renderOutput(dataTable, element);\n",
              "          const docLink = document.createElement('div');\n",
              "          docLink.innerHTML = docLinkHtml;\n",
              "          element.appendChild(docLink);\n",
              "        }\n",
              "      </script>\n",
              "    </div>\n",
              "  </div>\n",
              "  "
            ]
          },
          "metadata": {},
          "execution_count": 2
        }
      ],
      "source": [
        "df = pd.read_csv('/content/spam.tsv', sep='\\t')\n",
        "df.head()"
      ]
    },
    {
      "cell_type": "code",
      "execution_count": null,
      "metadata": {
        "colab": {
          "base_uri": "https://localhost:8080/"
        },
        "id": "CBnnRpKO0zxw",
        "outputId": "32582fd3-29c5-4bac-bac7-62f14f58f1e2"
      },
      "outputs": [
        {
          "data": {
            "text/plain": [
              "label      0\n",
              "message    0\n",
              "length     0\n",
              "punct      0\n",
              "dtype: int64"
            ]
          },
          "execution_count": 3,
          "metadata": {},
          "output_type": "execute_result"
        }
      ],
      "source": [
        "df.isnull().sum()"
      ]
    },
    {
      "cell_type": "code",
      "execution_count": null,
      "metadata": {
        "colab": {
          "base_uri": "https://localhost:8080/"
        },
        "id": "W7PkPVtB1jKN",
        "outputId": "a5a85aad-81fc-4a6d-b838-dfdc91274c97"
      },
      "outputs": [
        {
          "name": "stdout",
          "output_type": "stream",
          "text": [
            "<class 'pandas.core.frame.DataFrame'>\n",
            "RangeIndex: 5572 entries, 0 to 5571\n",
            "Data columns (total 4 columns):\n",
            " #   Column   Non-Null Count  Dtype \n",
            "---  ------   --------------  ----- \n",
            " 0   label    5572 non-null   object\n",
            " 1   message  5572 non-null   object\n",
            " 2   length   5572 non-null   int64 \n",
            " 3   punct    5572 non-null   int64 \n",
            "dtypes: int64(2), object(2)\n",
            "memory usage: 174.2+ KB\n"
          ]
        }
      ],
      "source": [
        "df.info()"
      ]
    },
    {
      "cell_type": "code",
      "execution_count": null,
      "metadata": {
        "colab": {
          "base_uri": "https://localhost:8080/",
          "height": 300
        },
        "id": "DElr7rNa1nM1",
        "outputId": "05ed8ae9-ab85-46b7-e85b-cab72711ea6c"
      },
      "outputs": [
        {
          "data": {
            "text/html": [
              "\n",
              "  <div id=\"df-b4d8fc7b-b7fa-41fe-82e3-c06bd2371739\">\n",
              "    <div class=\"colab-df-container\">\n",
              "      <div>\n",
              "<style scoped>\n",
              "    .dataframe tbody tr th:only-of-type {\n",
              "        vertical-align: middle;\n",
              "    }\n",
              "\n",
              "    .dataframe tbody tr th {\n",
              "        vertical-align: top;\n",
              "    }\n",
              "\n",
              "    .dataframe thead th {\n",
              "        text-align: right;\n",
              "    }\n",
              "</style>\n",
              "<table border=\"1\" class=\"dataframe\">\n",
              "  <thead>\n",
              "    <tr style=\"text-align: right;\">\n",
              "      <th></th>\n",
              "      <th>length</th>\n",
              "      <th>punct</th>\n",
              "    </tr>\n",
              "  </thead>\n",
              "  <tbody>\n",
              "    <tr>\n",
              "      <th>count</th>\n",
              "      <td>5572.000000</td>\n",
              "      <td>5572.000000</td>\n",
              "    </tr>\n",
              "    <tr>\n",
              "      <th>mean</th>\n",
              "      <td>80.489950</td>\n",
              "      <td>4.177495</td>\n",
              "    </tr>\n",
              "    <tr>\n",
              "      <th>std</th>\n",
              "      <td>59.942907</td>\n",
              "      <td>4.623919</td>\n",
              "    </tr>\n",
              "    <tr>\n",
              "      <th>min</th>\n",
              "      <td>2.000000</td>\n",
              "      <td>0.000000</td>\n",
              "    </tr>\n",
              "    <tr>\n",
              "      <th>25%</th>\n",
              "      <td>36.000000</td>\n",
              "      <td>2.000000</td>\n",
              "    </tr>\n",
              "    <tr>\n",
              "      <th>50%</th>\n",
              "      <td>62.000000</td>\n",
              "      <td>3.000000</td>\n",
              "    </tr>\n",
              "    <tr>\n",
              "      <th>75%</th>\n",
              "      <td>122.000000</td>\n",
              "      <td>6.000000</td>\n",
              "    </tr>\n",
              "    <tr>\n",
              "      <th>max</th>\n",
              "      <td>910.000000</td>\n",
              "      <td>133.000000</td>\n",
              "    </tr>\n",
              "  </tbody>\n",
              "</table>\n",
              "</div>\n",
              "      <button class=\"colab-df-convert\" onclick=\"convertToInteractive('df-b4d8fc7b-b7fa-41fe-82e3-c06bd2371739')\"\n",
              "              title=\"Convert this dataframe to an interactive table.\"\n",
              "              style=\"display:none;\">\n",
              "        \n",
              "  <svg xmlns=\"http://www.w3.org/2000/svg\" height=\"24px\"viewBox=\"0 0 24 24\"\n",
              "       width=\"24px\">\n",
              "    <path d=\"M0 0h24v24H0V0z\" fill=\"none\"/>\n",
              "    <path d=\"M18.56 5.44l.94 2.06.94-2.06 2.06-.94-2.06-.94-.94-2.06-.94 2.06-2.06.94zm-11 1L8.5 8.5l.94-2.06 2.06-.94-2.06-.94L8.5 2.5l-.94 2.06-2.06.94zm10 10l.94 2.06.94-2.06 2.06-.94-2.06-.94-.94-2.06-.94 2.06-2.06.94z\"/><path d=\"M17.41 7.96l-1.37-1.37c-.4-.4-.92-.59-1.43-.59-.52 0-1.04.2-1.43.59L10.3 9.45l-7.72 7.72c-.78.78-.78 2.05 0 2.83L4 21.41c.39.39.9.59 1.41.59.51 0 1.02-.2 1.41-.59l7.78-7.78 2.81-2.81c.8-.78.8-2.07 0-2.86zM5.41 20L4 18.59l7.72-7.72 1.47 1.35L5.41 20z\"/>\n",
              "  </svg>\n",
              "      </button>\n",
              "      \n",
              "  <style>\n",
              "    .colab-df-container {\n",
              "      display:flex;\n",
              "      flex-wrap:wrap;\n",
              "      gap: 12px;\n",
              "    }\n",
              "\n",
              "    .colab-df-convert {\n",
              "      background-color: #E8F0FE;\n",
              "      border: none;\n",
              "      border-radius: 50%;\n",
              "      cursor: pointer;\n",
              "      display: none;\n",
              "      fill: #1967D2;\n",
              "      height: 32px;\n",
              "      padding: 0 0 0 0;\n",
              "      width: 32px;\n",
              "    }\n",
              "\n",
              "    .colab-df-convert:hover {\n",
              "      background-color: #E2EBFA;\n",
              "      box-shadow: 0px 1px 2px rgba(60, 64, 67, 0.3), 0px 1px 3px 1px rgba(60, 64, 67, 0.15);\n",
              "      fill: #174EA6;\n",
              "    }\n",
              "\n",
              "    [theme=dark] .colab-df-convert {\n",
              "      background-color: #3B4455;\n",
              "      fill: #D2E3FC;\n",
              "    }\n",
              "\n",
              "    [theme=dark] .colab-df-convert:hover {\n",
              "      background-color: #434B5C;\n",
              "      box-shadow: 0px 1px 3px 1px rgba(0, 0, 0, 0.15);\n",
              "      filter: drop-shadow(0px 1px 2px rgba(0, 0, 0, 0.3));\n",
              "      fill: #FFFFFF;\n",
              "    }\n",
              "  </style>\n",
              "\n",
              "      <script>\n",
              "        const buttonEl =\n",
              "          document.querySelector('#df-b4d8fc7b-b7fa-41fe-82e3-c06bd2371739 button.colab-df-convert');\n",
              "        buttonEl.style.display =\n",
              "          google.colab.kernel.accessAllowed ? 'block' : 'none';\n",
              "\n",
              "        async function convertToInteractive(key) {\n",
              "          const element = document.querySelector('#df-b4d8fc7b-b7fa-41fe-82e3-c06bd2371739');\n",
              "          const dataTable =\n",
              "            await google.colab.kernel.invokeFunction('convertToInteractive',\n",
              "                                                     [key], {});\n",
              "          if (!dataTable) return;\n",
              "\n",
              "          const docLinkHtml = 'Like what you see? Visit the ' +\n",
              "            '<a target=\"_blank\" href=https://colab.research.google.com/notebooks/data_table.ipynb>data table notebook</a>'\n",
              "            + ' to learn more about interactive tables.';\n",
              "          element.innerHTML = '';\n",
              "          dataTable['output_type'] = 'display_data';\n",
              "          await google.colab.output.renderOutput(dataTable, element);\n",
              "          const docLink = document.createElement('div');\n",
              "          docLink.innerHTML = docLinkHtml;\n",
              "          element.appendChild(docLink);\n",
              "        }\n",
              "      </script>\n",
              "    </div>\n",
              "  </div>\n",
              "  "
            ],
            "text/plain": [
              "            length        punct\n",
              "count  5572.000000  5572.000000\n",
              "mean     80.489950     4.177495\n",
              "std      59.942907     4.623919\n",
              "min       2.000000     0.000000\n",
              "25%      36.000000     2.000000\n",
              "50%      62.000000     3.000000\n",
              "75%     122.000000     6.000000\n",
              "max     910.000000   133.000000"
            ]
          },
          "execution_count": 5,
          "metadata": {},
          "output_type": "execute_result"
        }
      ],
      "source": [
        "df.describe()"
      ]
    },
    {
      "cell_type": "code",
      "execution_count": null,
      "metadata": {
        "colab": {
          "base_uri": "https://localhost:8080/"
        },
        "id": "erXOSPBc1z1Q",
        "outputId": "0bb3cbb8-8544-4e1f-fd58-0cd85af29e28"
      },
      "outputs": [
        {
          "data": {
            "text/plain": [
              "ham     86.593683\n",
              "spam    13.406317\n",
              "Name: label, dtype: float64"
            ]
          },
          "execution_count": 8,
          "metadata": {},
          "output_type": "execute_result"
        }
      ],
      "source": [
        "# check imbalance dataset \n",
        "df['label'].value_counts() / (len(df))*100"
      ]
    },
    {
      "cell_type": "code",
      "execution_count": null,
      "metadata": {
        "id": "Tcc-IBMW2XXd"
      },
      "outputs": [],
      "source": [
        "ham = df[df['label']=='ham']\n",
        "spam = df[df['label']=='spam']"
      ]
    },
    {
      "cell_type": "code",
      "execution_count": null,
      "metadata": {
        "colab": {
          "base_uri": "https://localhost:8080/"
        },
        "id": "jTaSegcs2pww",
        "outputId": "bd50bfab-edf5-43ce-ddbc-b6eb95f7d5f6"
      },
      "outputs": [
        {
          "data": {
            "text/plain": [
              "((4825, 4), (747, 4))"
            ]
          },
          "execution_count": 16,
          "metadata": {},
          "output_type": "execute_result"
        }
      ],
      "source": [
        "ham.shape, spam.shape"
      ]
    },
    {
      "cell_type": "code",
      "execution_count": null,
      "metadata": {
        "id": "hk-e_FY-2sTj"
      },
      "outputs": [],
      "source": [
        "# oversampling - ham = 4825, spam = 4825 , total=9650\n",
        "# undersampling - ham = 747, spam = 747 , total = 1494"
      ]
    },
    {
      "cell_type": "code",
      "execution_count": null,
      "metadata": {
        "colab": {
          "base_uri": "https://localhost:8080/"
        },
        "id": "Ugzaf-rW2V99",
        "outputId": "e23044a5-d779-41fd-ffde-6009cc8ff7b3"
      },
      "outputs": [
        {
          "data": {
            "text/plain": [
              "((4825, 4), (4825, 4))"
            ]
          },
          "execution_count": 13,
          "metadata": {},
          "output_type": "execute_result"
        }
      ],
      "source": [
        "# oversampling method - target is minority class\n",
        "\"\"\"\n",
        "spam = spam.sample(ham.shape[0], replace=True)\n",
        "spam.shape, ham.shape\n",
        "\"\"\""
      ]
    },
    {
      "cell_type": "code",
      "execution_count": null,
      "metadata": {
        "colab": {
          "base_uri": "https://localhost:8080/"
        },
        "id": "dUGydO9S3epG",
        "outputId": "9ececddd-2421-4c30-d47f-2f3d194a3b88"
      },
      "outputs": [
        {
          "data": {
            "text/plain": [
              "((747, 4), (747, 4))"
            ]
          },
          "execution_count": 17,
          "metadata": {},
          "output_type": "execute_result"
        }
      ],
      "source": [
        "# undersampling method - target is majority class\n",
        "ham = ham.sample(spam.shape[0])\n",
        "ham.shape, spam.shape"
      ]
    },
    {
      "cell_type": "code",
      "execution_count": null,
      "metadata": {
        "colab": {
          "base_uri": "https://localhost:8080/"
        },
        "id": "sqJzZif_4Ejp",
        "outputId": "aa131fa9-1f28-490b-faeb-ce7aeeeeded8"
      },
      "outputs": [
        {
          "data": {
            "text/plain": [
              "(1494, 4)"
            ]
          },
          "execution_count": 18,
          "metadata": {},
          "output_type": "execute_result"
        }
      ],
      "source": [
        "# my data is balance\n",
        "# we have to append both the data into one table\n",
        "data = ham.append(spam, ignore_index=True)\n",
        "data.shape"
      ]
    },
    {
      "cell_type": "code",
      "execution_count": null,
      "metadata": {
        "colab": {
          "base_uri": "https://localhost:8080/",
          "height": 206
        },
        "id": "XVegkmZ44zsM",
        "outputId": "8efb1b5a-cedd-40fe-cee0-b41c89fb2bab"
      },
      "outputs": [
        {
          "data": {
            "text/html": [
              "\n",
              "  <div id=\"df-4df49666-9acd-4061-b1f1-230cc41a9305\">\n",
              "    <div class=\"colab-df-container\">\n",
              "      <div>\n",
              "<style scoped>\n",
              "    .dataframe tbody tr th:only-of-type {\n",
              "        vertical-align: middle;\n",
              "    }\n",
              "\n",
              "    .dataframe tbody tr th {\n",
              "        vertical-align: top;\n",
              "    }\n",
              "\n",
              "    .dataframe thead th {\n",
              "        text-align: right;\n",
              "    }\n",
              "</style>\n",
              "<table border=\"1\" class=\"dataframe\">\n",
              "  <thead>\n",
              "    <tr style=\"text-align: right;\">\n",
              "      <th></th>\n",
              "      <th>label</th>\n",
              "      <th>message</th>\n",
              "      <th>length</th>\n",
              "      <th>punct</th>\n",
              "    </tr>\n",
              "  </thead>\n",
              "  <tbody>\n",
              "    <tr>\n",
              "      <th>0</th>\n",
              "      <td>ham</td>\n",
              "      <td>Haha just kidding, papa needs drugs</td>\n",
              "      <td>35</td>\n",
              "      <td>1</td>\n",
              "    </tr>\n",
              "    <tr>\n",
              "      <th>1</th>\n",
              "      <td>ham</td>\n",
              "      <td>Good afternoon, babe. How goes that day ? Any ...</td>\n",
              "      <td>105</td>\n",
              "      <td>16</td>\n",
              "    </tr>\n",
              "    <tr>\n",
              "      <th>2</th>\n",
              "      <td>ham</td>\n",
              "      <td>When people see my msgs, They think Iam addict...</td>\n",
              "      <td>148</td>\n",
              "      <td>11</td>\n",
              "    </tr>\n",
              "    <tr>\n",
              "      <th>3</th>\n",
              "      <td>ham</td>\n",
              "      <td>Aight, can you text me the address?</td>\n",
              "      <td>35</td>\n",
              "      <td>2</td>\n",
              "    </tr>\n",
              "    <tr>\n",
              "      <th>4</th>\n",
              "      <td>ham</td>\n",
              "      <td>Nope i'm not drivin... I neva develop da photo...</td>\n",
              "      <td>54</td>\n",
              "      <td>7</td>\n",
              "    </tr>\n",
              "  </tbody>\n",
              "</table>\n",
              "</div>\n",
              "      <button class=\"colab-df-convert\" onclick=\"convertToInteractive('df-4df49666-9acd-4061-b1f1-230cc41a9305')\"\n",
              "              title=\"Convert this dataframe to an interactive table.\"\n",
              "              style=\"display:none;\">\n",
              "        \n",
              "  <svg xmlns=\"http://www.w3.org/2000/svg\" height=\"24px\"viewBox=\"0 0 24 24\"\n",
              "       width=\"24px\">\n",
              "    <path d=\"M0 0h24v24H0V0z\" fill=\"none\"/>\n",
              "    <path d=\"M18.56 5.44l.94 2.06.94-2.06 2.06-.94-2.06-.94-.94-2.06-.94 2.06-2.06.94zm-11 1L8.5 8.5l.94-2.06 2.06-.94-2.06-.94L8.5 2.5l-.94 2.06-2.06.94zm10 10l.94 2.06.94-2.06 2.06-.94-2.06-.94-.94-2.06-.94 2.06-2.06.94z\"/><path d=\"M17.41 7.96l-1.37-1.37c-.4-.4-.92-.59-1.43-.59-.52 0-1.04.2-1.43.59L10.3 9.45l-7.72 7.72c-.78.78-.78 2.05 0 2.83L4 21.41c.39.39.9.59 1.41.59.51 0 1.02-.2 1.41-.59l7.78-7.78 2.81-2.81c.8-.78.8-2.07 0-2.86zM5.41 20L4 18.59l7.72-7.72 1.47 1.35L5.41 20z\"/>\n",
              "  </svg>\n",
              "      </button>\n",
              "      \n",
              "  <style>\n",
              "    .colab-df-container {\n",
              "      display:flex;\n",
              "      flex-wrap:wrap;\n",
              "      gap: 12px;\n",
              "    }\n",
              "\n",
              "    .colab-df-convert {\n",
              "      background-color: #E8F0FE;\n",
              "      border: none;\n",
              "      border-radius: 50%;\n",
              "      cursor: pointer;\n",
              "      display: none;\n",
              "      fill: #1967D2;\n",
              "      height: 32px;\n",
              "      padding: 0 0 0 0;\n",
              "      width: 32px;\n",
              "    }\n",
              "\n",
              "    .colab-df-convert:hover {\n",
              "      background-color: #E2EBFA;\n",
              "      box-shadow: 0px 1px 2px rgba(60, 64, 67, 0.3), 0px 1px 3px 1px rgba(60, 64, 67, 0.15);\n",
              "      fill: #174EA6;\n",
              "    }\n",
              "\n",
              "    [theme=dark] .colab-df-convert {\n",
              "      background-color: #3B4455;\n",
              "      fill: #D2E3FC;\n",
              "    }\n",
              "\n",
              "    [theme=dark] .colab-df-convert:hover {\n",
              "      background-color: #434B5C;\n",
              "      box-shadow: 0px 1px 3px 1px rgba(0, 0, 0, 0.15);\n",
              "      filter: drop-shadow(0px 1px 2px rgba(0, 0, 0, 0.3));\n",
              "      fill: #FFFFFF;\n",
              "    }\n",
              "  </style>\n",
              "\n",
              "      <script>\n",
              "        const buttonEl =\n",
              "          document.querySelector('#df-4df49666-9acd-4061-b1f1-230cc41a9305 button.colab-df-convert');\n",
              "        buttonEl.style.display =\n",
              "          google.colab.kernel.accessAllowed ? 'block' : 'none';\n",
              "\n",
              "        async function convertToInteractive(key) {\n",
              "          const element = document.querySelector('#df-4df49666-9acd-4061-b1f1-230cc41a9305');\n",
              "          const dataTable =\n",
              "            await google.colab.kernel.invokeFunction('convertToInteractive',\n",
              "                                                     [key], {});\n",
              "          if (!dataTable) return;\n",
              "\n",
              "          const docLinkHtml = 'Like what you see? Visit the ' +\n",
              "            '<a target=\"_blank\" href=https://colab.research.google.com/notebooks/data_table.ipynb>data table notebook</a>'\n",
              "            + ' to learn more about interactive tables.';\n",
              "          element.innerHTML = '';\n",
              "          dataTable['output_type'] = 'display_data';\n",
              "          await google.colab.output.renderOutput(dataTable, element);\n",
              "          const docLink = document.createElement('div');\n",
              "          docLink.innerHTML = docLinkHtml;\n",
              "          element.appendChild(docLink);\n",
              "        }\n",
              "      </script>\n",
              "    </div>\n",
              "  </div>\n",
              "  "
            ],
            "text/plain": [
              "  label                                            message  length  punct\n",
              "0   ham                Haha just kidding, papa needs drugs      35      1\n",
              "1   ham  Good afternoon, babe. How goes that day ? Any ...     105     16\n",
              "2   ham  When people see my msgs, They think Iam addict...     148     11\n",
              "3   ham                Aight, can you text me the address?      35      2\n",
              "4   ham  Nope i'm not drivin... I neva develop da photo...      54      7"
            ]
          },
          "execution_count": 19,
          "metadata": {},
          "output_type": "execute_result"
        }
      ],
      "source": [
        "data.head()"
      ]
    },
    {
      "cell_type": "code",
      "execution_count": null,
      "metadata": {
        "colab": {
          "base_uri": "https://localhost:8080/",
          "height": 434
        },
        "id": "BSC6FeGQ419e",
        "outputId": "e9c81906-b38f-4129-f0de-4b3cc099c296"
      },
      "outputs": [
        {
          "data": {
            "image/png": "[encoded data removed]",
            "text/plain": [
              "<Figure size 640x480 with 1 Axes>"
            ]
          },
          "metadata": {},
          "output_type": "display_data"
        }
      ],
      "source": [
        "# Visualization by using ham and spam \n",
        "\n",
        "plt.hist(data[data['label']=='ham']['length'], bins=100, alpha=0.7)\n",
        "plt.hist(data[data['label']=='spam']['length'], bins=100, alpha=0.7)\n",
        "plt.show()"
      ]
    },
    {
      "cell_type": "code",
      "execution_count": null,
      "metadata": {
        "colab": {
          "base_uri": "https://localhost:8080/",
          "height": 434
        },
        "id": "6Jyb4Pyv6QM3",
        "outputId": "aeaa048f-8512-471e-dd46-16f447d21d88"
      },
      "outputs": [
        {
          "data": {
            "image/png": "[encoded data removed]",
            "text/plain": [
              "<Figure size 640x480 with 1 Axes>"
            ]
          },
          "metadata": {},
          "output_type": "display_data"
        }
      ],
      "source": [
        "plt.hist(data[data['label']=='ham']['punct'], bins=100, alpha=0.7)\n",
        "plt.hist(data[data['label']=='spam']['punct'], bins=100, alpha=0.7)\n",
        "plt.show()"
      ]
    },
    {
      "cell_type": "code",
      "execution_count": null,
      "metadata": {
        "colab": {
          "base_uri": "https://localhost:8080/"
        },
        "id": "g9VAXeYb3TDJ",
        "outputId": "aa37acbf-d86a-4b42-f591-09e082c28581"
      },
      "outputs": [
        {
          "data": {
            "text/plain": [
              "Index(['label', 'message', 'length', 'punct'], dtype='object')"
            ]
          },
          "execution_count": 25,
          "metadata": {},
          "output_type": "execute_result"
        }
      ],
      "source": [
        "data.columns"
      ]
    },
    {
      "cell_type": "code",
      "execution_count": null,
      "metadata": {
        "id": "_XWpa7XH69gn"
      },
      "outputs": [],
      "source": [
        "# split the data into training and test for building the model\n",
        "from sklearn.model_selection import train_test_split\n",
        "x_train, x_test, y_train, y_test = train_test_split(data['message'], data['label'],\n",
        "                                                    test_size=0.3, random_state=101)"
      ]
    },
    {
      "cell_type": "code",
      "execution_count": null,
      "metadata": {
        "colab": {
          "base_uri": "https://localhost:8080/"
        },
        "id": "2BGtjAKk7hZi",
        "outputId": "df98c046-39bb-4cba-b50b-dc2b3210e7f9"
      },
      "outputs": [
        {
          "data": {
            "text/plain": [
              "(1494, 4)"
            ]
          },
          "execution_count": 28,
          "metadata": {},
          "output_type": "execute_result"
        }
      ],
      "source": [
        "data.shape"
      ]
    },
    {
      "cell_type": "code",
      "execution_count": null,
      "metadata": {
        "colab": {
          "base_uri": "https://localhost:8080/"
        },
        "id": "X_VeyPpa7iZg",
        "outputId": "379cb57c-f47b-4941-d0b3-821c68a3eaa9"
      },
      "outputs": [
        {
          "data": {
            "text/plain": [
              "448.2"
            ]
          },
          "execution_count": 30,
          "metadata": {},
          "output_type": "execute_result"
        }
      ],
      "source": [
        "1494*0.3"
      ]
    },
    {
      "cell_type": "code",
      "execution_count": null,
      "metadata": {
        "id": "_djBahUn7kfm"
      },
      "outputs": [],
      "source": []
    },
    {
      "cell_type": "code",
      "execution_count": null,
      "metadata": {
        "colab": {
          "base_uri": "https://localhost:8080/"
        },
        "id": "WjYI5tsm2Reh",
        "outputId": "cbcb2528-8d18-48bd-b5d7-ce28e6d5123e"
      },
      "outputs": [
        {
          "name": "stdout",
          "output_type": "stream",
          "text": [
            "(1045,) (449,) (1045,) (449,)\n"
          ]
        }
      ],
      "source": [
        "print(x_train.shape, x_test.shape, y_train.shape, y_test.shape)"
      ]
    },
    {
      "cell_type": "code",
      "execution_count": null,
      "metadata": {
        "id": "agGlE9B97bmx"
      },
      "outputs": [],
      "source": []
    },
    {
      "cell_type": "markdown",
      "metadata": {
        "id": "ejXiwSyc8gsr"
      },
      "source": [
        "# Building Classification model"
      ]
    },
    {
      "cell_type": "code",
      "execution_count": null,
      "metadata": {
        "id": "qLaPX1WVzS6t"
      },
      "outputs": [],
      "source": [
        "from sklearn.feature_extraction.text import TfidfVectorizer\n",
        "\n",
        "# Machine Learning Algorithm\n",
        "from sklearn.ensemble import RandomForestClassifier\n",
        "\n",
        "# pipeline package to merge nlp and machine learning together and get the output\n",
        "from sklearn.pipeline import Pipeline \n"
      ]
    },
    {
      "cell_type": "code",
      "execution_count": null,
      "metadata": {
        "id": "Z8Kan32g9oQP"
      },
      "outputs": [],
      "source": [
        "TfidfVectorizer()"
      ]
    },
    {
      "cell_type": "code",
      "execution_count": null,
      "metadata": {
        "id": "E7jQZ9jG9Wro"
      },
      "outputs": [],
      "source": [
        "classifier = Pipeline([('tfidf',TfidfVectorizer() ), \n",
        "                       ('classifier',RandomForestClassifier())])"
      ]
    },
    {
      "cell_type": "code",
      "execution_count": null,
      "metadata": {
        "colab": {
          "base_uri": "https://localhost:8080/",
          "height": 124
        },
        "id": "PxzbWHBqzTBT",
        "outputId": "79f67a26-d3c5-4a46-83c0-fc818baaf93e"
      },
      "outputs": [
        {
          "data": {
            "text/html": [
              "<style>#sk-container-id-1 {color: black;background-color: white;}#sk-container-id-1 pre{padding: 0;}#sk-container-id-1 div.sk-toggleable {background-color: white;}#sk-container-id-1 label.sk-toggleable__label {cursor: pointer;display: block;width: 100%;margin-bottom: 0;padding: 0.3em;box-sizing: border-box;text-align: center;}#sk-container-id-1 label.sk-toggleable__label-arrow:before {content: \"▸\";float: left;margin-right: 0.25em;color: #696969;}#sk-container-id-1 label.sk-toggleable__label-arrow:hover:before {color: black;}#sk-container-id-1 div.sk-estimator:hover label.sk-toggleable__label-arrow:before {color: black;}#sk-container-id-1 div.sk-toggleable__content {max-height: 0;max-width: 0;overflow: hidden;text-align: left;background-color: #f0f8ff;}#sk-container-id-1 div.sk-toggleable__content pre {margin: 0.2em;color: black;border-radius: 0.25em;background-color: #f0f8ff;}#sk-container-id-1 input.sk-toggleable__control:checked~div.sk-toggleable__content {max-height: 200px;max-width: 100%;overflow: auto;}#sk-container-id-1 input.sk-toggleable__control:checked~label.sk-toggleable__label-arrow:before {content: \"▾\";}#sk-container-id-1 div.sk-estimator input.sk-toggleable__control:checked~label.sk-toggleable__label {background-color: #d4ebff;}#sk-container-id-1 div.sk-label input.sk-toggleable__control:checked~label.sk-toggleable__label {background-color: #d4ebff;}#sk-container-id-1 input.sk-hidden--visually {border: 0;clip: rect(1px 1px 1px 1px);clip: rect(1px, 1px, 1px, 1px);height: 1px;margin: -1px;overflow: hidden;padding: 0;position: absolute;width: 1px;}#sk-container-id-1 div.sk-estimator {font-family: monospace;background-color: #f0f8ff;border: 1px dotted black;border-radius: 0.25em;box-sizing: border-box;margin-bottom: 0.5em;}#sk-container-id-1 div.sk-estimator:hover {background-color: #d4ebff;}#sk-container-id-1 div.sk-parallel-item::after {content: \"\";width: 100%;border-bottom: 1px solid gray;flex-grow: 1;}#sk-container-id-1 div.sk-label:hover label.sk-toggleable__label {background-color: #d4ebff;}#sk-container-id-1 div.sk-serial::before {content: \"\";position: absolute;border-left: 1px solid gray;box-sizing: border-box;top: 0;bottom: 0;left: 50%;z-index: 0;}#sk-container-id-1 div.sk-serial {display: flex;flex-direction: column;align-items: center;background-color: white;padding-right: 0.2em;padding-left: 0.2em;position: relative;}#sk-container-id-1 div.sk-item {position: relative;z-index: 1;}#sk-container-id-1 div.sk-parallel {display: flex;align-items: stretch;justify-content: center;background-color: white;position: relative;}#sk-container-id-1 div.sk-item::before, #sk-container-id-1 div.sk-parallel-item::before {content: \"\";position: absolute;border-left: 1px solid gray;box-sizing: border-box;top: 0;bottom: 0;left: 50%;z-index: -1;}#sk-container-id-1 div.sk-parallel-item {display: flex;flex-direction: column;z-index: 1;position: relative;background-color: white;}#sk-container-id-1 div.sk-parallel-item:first-child::after {align-self: flex-end;width: 50%;}#sk-container-id-1 div.sk-parallel-item:last-child::after {align-self: flex-start;width: 50%;}#sk-container-id-1 div.sk-parallel-item:only-child::after {width: 0;}#sk-container-id-1 div.sk-dashed-wrapped {border: 1px dashed gray;margin: 0 0.4em 0.5em 0.4em;box-sizing: border-box;padding-bottom: 0.4em;background-color: white;}#sk-container-id-1 div.sk-label label {font-family: monospace;font-weight: bold;display: inline-block;line-height: 1.2em;}#sk-container-id-1 div.sk-label-container {text-align: center;}#sk-container-id-1 div.sk-container {/* jupyter's `normalize.less` sets `[hidden] { display: none; }` but bootstrap.min.css set `[hidden] { display: none !important; }` so we also need the `!important` here to be able to override the default hidden behavior on the sphinx rendered scikit-learn.org. See: https://github.com/scikit-learn/scikit-learn/issues/21755 */display: inline-block !important;position: relative;}#sk-container-id-1 div.sk-text-repr-fallback {display: none;}</style><div id=\"sk-container-id-1\" class=\"sk-top-container\"><div class=\"sk-text-repr-fallback\"><pre>Pipeline(steps=[(&#x27;tfidf&#x27;, TfidfVectorizer()),\n",
              "                (&#x27;classifier&#x27;, RandomForestClassifier())])</pre><b>In a Jupyter environment, please rerun this cell to show the HTML representation or trust the notebook. <br />On GitHub, the HTML representation is unable to render, please try loading this page with nbviewer.org.</b></div><div class=\"sk-container\" hidden><div class=\"sk-item sk-dashed-wrapped\"><div class=\"sk-label-container\"><div class=\"sk-label sk-toggleable\"><input class=\"sk-toggleable__control sk-hidden--visually\" id=\"sk-estimator-id-1\" type=\"checkbox\" ><label for=\"sk-estimator-id-1\" class=\"sk-toggleable__label sk-toggleable__label-arrow\">Pipeline</label><div class=\"sk-toggleable__content\"><pre>Pipeline(steps=[(&#x27;tfidf&#x27;, TfidfVectorizer()),\n",
              "                (&#x27;classifier&#x27;, RandomForestClassifier())])</pre></div></div></div><div class=\"sk-serial\"><div class=\"sk-item\"><div class=\"sk-estimator sk-toggleable\"><input class=\"sk-toggleable__control sk-hidden--visually\" id=\"sk-estimator-id-2\" type=\"checkbox\" ><label for=\"sk-estimator-id-2\" class=\"sk-toggleable__label sk-toggleable__label-arrow\">TfidfVectorizer</label><div class=\"sk-toggleable__content\"><pre>TfidfVectorizer()</pre></div></div></div><div class=\"sk-item\"><div class=\"sk-estimator sk-toggleable\"><input class=\"sk-toggleable__control sk-hidden--visually\" id=\"sk-estimator-id-3\" type=\"checkbox\" ><label for=\"sk-estimator-id-3\" class=\"sk-toggleable__label sk-toggleable__label-arrow\">RandomForestClassifier</label><div class=\"sk-toggleable__content\"><pre>RandomForestClassifier()</pre></div></div></div></div></div></div></div>"
            ],
            "text/plain": [
              "Pipeline(steps=[('tfidf', TfidfVectorizer()),\n",
              "                ('classifier', RandomForestClassifier())])"
            ]
          },
          "execution_count": 33,
          "metadata": {},
          "output_type": "execute_result"
        }
      ],
      "source": [
        "classifier"
      ]
    },
    {
      "cell_type": "code",
      "execution_count": null,
      "metadata": {
        "colab": {
          "base_uri": "https://localhost:8080/",
          "height": 124
        },
        "id": "NLf7QIPozTEU",
        "outputId": "e1740114-98ef-4759-fc34-2ce1ea1285a9"
      },
      "outputs": [
        {
          "data": {
            "text/html": [
              "<style>#sk-container-id-2 {color: black;background-color: white;}#sk-container-id-2 pre{padding: 0;}#sk-container-id-2 div.sk-toggleable {background-color: white;}#sk-container-id-2 label.sk-toggleable__label {cursor: pointer;display: block;width: 100%;margin-bottom: 0;padding: 0.3em;box-sizing: border-box;text-align: center;}#sk-container-id-2 label.sk-toggleable__label-arrow:before {content: \"▸\";float: left;margin-right: 0.25em;color: #696969;}#sk-container-id-2 label.sk-toggleable__label-arrow:hover:before {color: black;}#sk-container-id-2 div.sk-estimator:hover label.sk-toggleable__label-arrow:before {color: black;}#sk-container-id-2 div.sk-toggleable__content {max-height: 0;max-width: 0;overflow: hidden;text-align: left;background-color: #f0f8ff;}#sk-container-id-2 div.sk-toggleable__content pre {margin: 0.2em;color: black;border-radius: 0.25em;background-color: #f0f8ff;}#sk-container-id-2 input.sk-toggleable__control:checked~div.sk-toggleable__content {max-height: 200px;max-width: 100%;overflow: auto;}#sk-container-id-2 input.sk-toggleable__control:checked~label.sk-toggleable__label-arrow:before {content: \"▾\";}#sk-container-id-2 div.sk-estimator input.sk-toggleable__control:checked~label.sk-toggleable__label {background-color: #d4ebff;}#sk-container-id-2 div.sk-label input.sk-toggleable__control:checked~label.sk-toggleable__label {background-color: #d4ebff;}#sk-container-id-2 input.sk-hidden--visually {border: 0;clip: rect(1px 1px 1px 1px);clip: rect(1px, 1px, 1px, 1px);height: 1px;margin: -1px;overflow: hidden;padding: 0;position: absolute;width: 1px;}#sk-container-id-2 div.sk-estimator {font-family: monospace;background-color: #f0f8ff;border: 1px dotted black;border-radius: 0.25em;box-sizing: border-box;margin-bottom: 0.5em;}#sk-container-id-2 div.sk-estimator:hover {background-color: #d4ebff;}#sk-container-id-2 div.sk-parallel-item::after {content: \"\";width: 100%;border-bottom: 1px solid gray;flex-grow: 1;}#sk-container-id-2 div.sk-label:hover label.sk-toggleable__label {background-color: #d4ebff;}#sk-container-id-2 div.sk-serial::before {content: \"\";position: absolute;border-left: 1px solid gray;box-sizing: border-box;top: 0;bottom: 0;left: 50%;z-index: 0;}#sk-container-id-2 div.sk-serial {display: flex;flex-direction: column;align-items: center;background-color: white;padding-right: 0.2em;padding-left: 0.2em;position: relative;}#sk-container-id-2 div.sk-item {position: relative;z-index: 1;}#sk-container-id-2 div.sk-parallel {display: flex;align-items: stretch;justify-content: center;background-color: white;position: relative;}#sk-container-id-2 div.sk-item::before, #sk-container-id-2 div.sk-parallel-item::before {content: \"\";position: absolute;border-left: 1px solid gray;box-sizing: border-box;top: 0;bottom: 0;left: 50%;z-index: -1;}#sk-container-id-2 div.sk-parallel-item {display: flex;flex-direction: column;z-index: 1;position: relative;background-color: white;}#sk-container-id-2 div.sk-parallel-item:first-child::after {align-self: flex-end;width: 50%;}#sk-container-id-2 div.sk-parallel-item:last-child::after {align-self: flex-start;width: 50%;}#sk-container-id-2 div.sk-parallel-item:only-child::after {width: 0;}#sk-container-id-2 div.sk-dashed-wrapped {border: 1px dashed gray;margin: 0 0.4em 0.5em 0.4em;box-sizing: border-box;padding-bottom: 0.4em;background-color: white;}#sk-container-id-2 div.sk-label label {font-family: monospace;font-weight: bold;display: inline-block;line-height: 1.2em;}#sk-container-id-2 div.sk-label-container {text-align: center;}#sk-container-id-2 div.sk-container {/* jupyter's `normalize.less` sets `[hidden] { display: none; }` but bootstrap.min.css set `[hidden] { display: none !important; }` so we also need the `!important` here to be able to override the default hidden behavior on the sphinx rendered scikit-learn.org. See: https://github.com/scikit-learn/scikit-learn/issues/21755 */display: inline-block !important;position: relative;}#sk-container-id-2 div.sk-text-repr-fallback {display: none;}</style><div id=\"sk-container-id-2\" class=\"sk-top-container\"><div class=\"sk-text-repr-fallback\"><pre>Pipeline(steps=[(&#x27;tfidf&#x27;, TfidfVectorizer()),\n",
              "                (&#x27;classifier&#x27;, RandomForestClassifier())])</pre><b>In a Jupyter environment, please rerun this cell to show the HTML representation or trust the notebook. <br />On GitHub, the HTML representation is unable to render, please try loading this page with nbviewer.org.</b></div><div class=\"sk-container\" hidden><div class=\"sk-item sk-dashed-wrapped\"><div class=\"sk-label-container\"><div class=\"sk-label sk-toggleable\"><input class=\"sk-toggleable__control sk-hidden--visually\" id=\"sk-estimator-id-4\" type=\"checkbox\" ><label for=\"sk-estimator-id-4\" class=\"sk-toggleable__label sk-toggleable__label-arrow\">Pipeline</label><div class=\"sk-toggleable__content\"><pre>Pipeline(steps=[(&#x27;tfidf&#x27;, TfidfVectorizer()),\n",
              "                (&#x27;classifier&#x27;, RandomForestClassifier())])</pre></div></div></div><div class=\"sk-serial\"><div class=\"sk-item\"><div class=\"sk-estimator sk-toggleable\"><input class=\"sk-toggleable__control sk-hidden--visually\" id=\"sk-estimator-id-5\" type=\"checkbox\" ><label for=\"sk-estimator-id-5\" class=\"sk-toggleable__label sk-toggleable__label-arrow\">TfidfVectorizer</label><div class=\"sk-toggleable__content\"><pre>TfidfVectorizer()</pre></div></div></div><div class=\"sk-item\"><div class=\"sk-estimator sk-toggleable\"><input class=\"sk-toggleable__control sk-hidden--visually\" id=\"sk-estimator-id-6\" type=\"checkbox\" ><label for=\"sk-estimator-id-6\" class=\"sk-toggleable__label sk-toggleable__label-arrow\">RandomForestClassifier</label><div class=\"sk-toggleable__content\"><pre>RandomForestClassifier()</pre></div></div></div></div></div></div></div>"
            ],
            "text/plain": [
              "Pipeline(steps=[('tfidf', TfidfVectorizer()),\n",
              "                ('classifier', RandomForestClassifier())])"
            ]
          },
          "execution_count": 34,
          "metadata": {},
          "output_type": "execute_result"
        }
      ],
      "source": [
        "classifier.fit(x_train, y_train)"
      ]
    },
    {
      "cell_type": "code",
      "execution_count": null,
      "metadata": {
        "id": "NjruISlH_J-T"
      },
      "outputs": [],
      "source": [
        "y_pred_train = classifier.predict(x_train)\n",
        "y_pred_test = classifier.predict(x_test)"
      ]
    },
    {
      "cell_type": "code",
      "execution_count": null,
      "metadata": {
        "colab": {
          "base_uri": "https://localhost:8080/"
        },
        "id": "rcyFArw2_Xuy",
        "outputId": "500f54ff-562c-4170-b523-8c256525ca15"
      },
      "outputs": [
        {
          "data": {
            "text/plain": [
              "array(['spam', 'spam', 'spam', ..., 'ham', 'spam', 'spam'], dtype=object)"
            ]
          },
          "execution_count": 36,
          "metadata": {},
          "output_type": "execute_result"
        }
      ],
      "source": [
        "y_pred_train"
      ]
    },
    {
      "cell_type": "code",
      "execution_count": null,
      "metadata": {
        "colab": {
          "base_uri": "https://localhost:8080/"
        },
        "id": "JlmfdNbbzTHS",
        "outputId": "56912701-56eb-45ef-9dda-ba66b67463fb"
      },
      "outputs": [
        {
          "data": {
            "text/plain": [
              "array(['ham', 'ham', 'spam', 'ham', 'spam', 'ham', 'spam', 'ham', 'ham',\n",
              "       'ham', 'spam', 'ham', 'spam', 'ham', 'ham', 'spam', 'spam', 'ham',\n",
              "       'spam', 'ham', 'spam', 'ham', 'spam', 'spam', 'ham', 'ham', 'ham',\n",
              "       'ham', 'spam', 'ham', 'spam', 'spam', 'ham', 'ham', 'ham', 'ham',\n",
              "       'ham', 'ham', 'spam', 'ham', 'spam', 'spam', 'ham', 'spam', 'spam',\n",
              "       'ham', 'spam', 'spam', 'ham', 'ham', 'ham', 'spam', 'ham', 'spam',\n",
              "       'ham', 'ham', 'ham', 'spam', 'ham', 'spam', 'spam', 'ham', 'ham',\n",
              "       'ham', 'ham', 'ham', 'spam', 'spam', 'spam', 'ham', 'ham', 'spam',\n",
              "       'ham', 'ham', 'spam', 'spam', 'spam', 'ham', 'ham', 'spam', 'spam',\n",
              "       'ham', 'spam', 'ham', 'spam', 'spam', 'spam', 'ham', 'ham', 'ham',\n",
              "       'ham', 'ham', 'spam', 'spam', 'spam', 'spam', 'ham', 'ham', 'ham',\n",
              "       'spam', 'spam', 'spam', 'spam', 'ham', 'ham', 'ham', 'ham', 'ham',\n",
              "       'ham', 'ham', 'ham', 'ham', 'spam', 'ham', 'ham', 'spam', 'spam',\n",
              "       'ham', 'spam', 'spam', 'ham', 'ham', 'spam', 'ham', 'ham', 'spam',\n",
              "       'ham', 'ham', 'spam', 'spam', 'spam', 'ham', 'ham', 'spam', 'spam',\n",
              "       'ham', 'spam', 'spam', 'spam', 'ham', 'ham', 'spam', 'ham', 'spam',\n",
              "       'ham', 'ham', 'ham', 'ham', 'ham', 'spam', 'ham', 'spam', 'spam',\n",
              "       'spam', 'ham', 'ham', 'ham', 'ham', 'spam', 'spam', 'ham', 'spam',\n",
              "       'spam', 'ham', 'ham', 'spam', 'ham', 'ham', 'ham', 'ham', 'ham',\n",
              "       'ham', 'ham', 'spam', 'ham', 'spam', 'spam', 'ham', 'spam', 'spam',\n",
              "       'ham', 'spam', 'spam', 'spam', 'spam', 'ham', 'spam', 'ham', 'ham',\n",
              "       'spam', 'spam', 'spam', 'ham', 'ham', 'spam', 'ham', 'ham', 'spam',\n",
              "       'ham', 'ham', 'ham', 'spam', 'spam', 'spam', 'spam', 'spam', 'ham',\n",
              "       'ham', 'ham', 'spam', 'spam', 'spam', 'ham', 'ham', 'ham', 'ham',\n",
              "       'ham', 'ham', 'spam', 'spam', 'ham', 'ham', 'ham', 'spam', 'ham',\n",
              "       'spam', 'ham', 'ham', 'ham', 'ham', 'ham', 'ham', 'ham', 'ham',\n",
              "       'spam', 'ham', 'spam', 'ham', 'ham', 'ham', 'ham', 'spam', 'spam',\n",
              "       'ham', 'spam', 'ham', 'ham', 'ham', 'ham', 'spam', 'spam', 'spam',\n",
              "       'spam', 'ham', 'spam', 'ham', 'ham', 'spam', 'ham', 'ham', 'spam',\n",
              "       'spam', 'ham', 'spam', 'spam', 'ham', 'spam', 'spam', 'ham', 'ham',\n",
              "       'spam', 'spam', 'ham', 'spam', 'spam', 'ham', 'ham', 'ham', 'spam',\n",
              "       'ham', 'spam', 'ham', 'spam', 'ham', 'ham', 'ham', 'spam', 'spam',\n",
              "       'ham', 'ham', 'spam', 'spam', 'ham', 'ham', 'ham', 'ham', 'ham',\n",
              "       'spam', 'ham', 'ham', 'spam', 'spam', 'ham', 'spam', 'ham', 'ham',\n",
              "       'spam', 'spam', 'spam', 'ham', 'spam', 'spam', 'ham', 'ham',\n",
              "       'spam', 'spam', 'spam', 'spam', 'ham', 'ham', 'ham', 'spam',\n",
              "       'spam', 'ham', 'ham', 'ham', 'spam', 'ham', 'ham', 'spam', 'spam',\n",
              "       'spam', 'ham', 'ham', 'spam', 'ham', 'ham', 'ham', 'ham', 'ham',\n",
              "       'spam', 'spam', 'ham', 'spam', 'ham', 'ham', 'ham', 'spam', 'spam',\n",
              "       'spam', 'ham', 'ham', 'spam', 'spam', 'ham', 'spam', 'spam',\n",
              "       'spam', 'spam', 'spam', 'ham', 'spam', 'ham', 'ham', 'spam', 'ham',\n",
              "       'ham', 'ham', 'ham', 'ham', 'ham', 'ham', 'ham', 'spam', 'ham',\n",
              "       'ham', 'ham', 'ham', 'ham', 'ham', 'ham', 'ham', 'spam', 'spam',\n",
              "       'ham', 'spam', 'spam', 'spam', 'ham', 'spam', 'spam', 'spam',\n",
              "       'spam', 'ham', 'ham', 'ham', 'ham', 'spam', 'spam', 'ham', 'spam',\n",
              "       'spam', 'spam', 'ham', 'ham', 'ham', 'ham', 'ham', 'spam', 'ham',\n",
              "       'spam', 'ham', 'spam', 'spam', 'spam', 'ham', 'spam', 'spam',\n",
              "       'ham', 'spam', 'ham', 'ham', 'ham', 'spam', 'spam', 'ham', 'spam',\n",
              "       'spam', 'ham', 'spam', 'spam', 'spam', 'ham', 'ham', 'ham', 'ham',\n",
              "       'spam', 'spam', 'spam', 'spam', 'ham', 'spam', 'ham', 'spam',\n",
              "       'spam', 'ham', 'ham', 'ham', 'ham'], dtype=object)"
            ]
          },
          "execution_count": 37,
          "metadata": {},
          "output_type": "execute_result"
        }
      ],
      "source": [
        "y_pred_test"
      ]
    },
    {
      "cell_type": "markdown",
      "metadata": {
        "id": "f6LOiKNg_hEK"
      },
      "source": [
        "# Evaluation metrics\n",
        "# confusion_matrix, classification_report, accuracy_score\n",
        "\n"
      ]
    },
    {
      "cell_type": "code",
      "execution_count": null,
      "metadata": {
        "id": "CNp_nQNp_zMO"
      },
      "outputs": [],
      "source": [
        "from sklearn.metrics import confusion_matrix, classification_report, accuracy_score"
      ]
    },
    {
      "cell_type": "code",
      "execution_count": null,
      "metadata": {
        "colab": {
          "base_uri": "https://localhost:8080/"
        },
        "id": "VgXy24X2zTNC",
        "outputId": "2b757714-88b5-47ef-dcca-5dfb67bdb06d"
      },
      "outputs": [
        {
          "data": {
            "text/plain": [
              "array([[223,   3],\n",
              "       [ 26, 197]])"
            ]
          },
          "execution_count": 39,
          "metadata": {},
          "output_type": "execute_result"
        }
      ],
      "source": [
        "confusion_matrix(y_test, y_pred_test)"
      ]
    },
    {
      "cell_type": "code",
      "execution_count": null,
      "metadata": {
        "colab": {
          "base_uri": "https://localhost:8080/"
        },
        "id": "Y3kic21l_6JV",
        "outputId": "f3bc1ef2-914c-4b15-aa6a-455a90f3b748"
      },
      "outputs": [
        {
          "name": "stdout",
          "output_type": "stream",
          "text": [
            "              precision    recall  f1-score   support\n",
            "\n",
            "         ham       1.00      1.00      1.00       521\n",
            "        spam       1.00      1.00      1.00       524\n",
            "\n",
            "    accuracy                           1.00      1045\n",
            "   macro avg       1.00      1.00      1.00      1045\n",
            "weighted avg       1.00      1.00      1.00      1045\n",
            "\n",
            "************************************************************************************************************************************************************************************\n",
            "              precision    recall  f1-score   support\n",
            "\n",
            "         ham       0.90      0.99      0.94       226\n",
            "        spam       0.98      0.88      0.93       223\n",
            "\n",
            "    accuracy                           0.94       449\n",
            "   macro avg       0.94      0.94      0.94       449\n",
            "weighted avg       0.94      0.94      0.94       449\n",
            "\n"
          ]
        }
      ],
      "source": [
        "print(classification_report(y_train, y_pred_train))\n",
        "print(\"******************\"*10)\n",
        "print(classification_report(y_test, y_pred_test))"
      ]
    },
    {
      "cell_type": "code",
      "execution_count": null,
      "metadata": {
        "colab": {
          "base_uri": "https://localhost:8080/"
        },
        "id": "T4i2m81lAF8_",
        "outputId": "74128006-dbad-43cd-d0b4-f3dda0d72e22"
      },
      "outputs": [
        {
          "name": "stdout",
          "output_type": "stream",
          "text": [
            "1.0\n",
            "************************************************************************************************************************************************************************************\n",
            "0.9354120267260579\n"
          ]
        }
      ],
      "source": [
        "print(accuracy_score(y_train, y_pred_train))\n",
        "print(\"******************\"*10)\n",
        "print(accuracy_score(y_test, y_pred_test))"
      ]
    },
    {
      "cell_type": "code",
      "execution_count": null,
      "metadata": {
        "id": "2DLjaWlFAWwf"
      },
      "outputs": [],
      "source": [
        "# SOTA - State of the art model - word2vec, BERT"
      ]
    },
    {
      "cell_type": "code",
      "execution_count": null,
      "metadata": {
        "id": "d8FdsskFA34l"
      },
      "outputs": [],
      "source": [
        "# Check your model performance\n",
        "\n",
        "test1 = ['Hello, Hope you are doing well.']\n",
        "test2 = ['Congratualations, You won a lottery ticket worth $100 Millons ! To claim call @1111']\n",
        "test3 = ['Hi, hope you all are enjoying with NLP concept and you apply the same concept in your organization']\n",
        "test4 = ['To claim your prize, simply click on the link below and fill out the form with your personal details. Hurry, this offer is only available to the first 100 people who respond!']\n",
        "test5 = ['call me at 4 pm jay its urgent']\n",
        "test6 = ['Congrats Megna ! Shortlisted for Amazing Weekend Getaway , pls come and collect $1000 offer free']\n",
        "test7= ['Tap to see the discount - Pro Flash Sale - Day1']\n",
        "test8 = ['Hi, How are you sister, its been a long time. lets have a get together']\n"
      ]
    },
    {
      "cell_type": "code",
      "execution_count": null,
      "metadata": {
        "colab": {
          "base_uri": "https://localhost:8080/"
        },
        "id": "gEmFOKLCB-ir",
        "outputId": "fe243694-1218-44b0-b753-f320df84ffcf"
      },
      "outputs": [
        {
          "name": "stdout",
          "output_type": "stream",
          "text": [
            "test1 :  ['ham']\n",
            "test2 :  ['spam']\n",
            "test3 :  ['ham']\n",
            "test4 :  ['spam']\n",
            "test5 :  ['ham']\n",
            "test6 :  ['spam']\n",
            "test7 :  ['ham']\n",
            "test8 :  ['ham']\n"
          ]
        }
      ],
      "source": [
        "print('test1 : ', classifier.predict(test1))\n",
        "print('test2 : ', classifier.predict(test2))\n",
        "print('test3 : ', classifier.predict(test3))\n",
        "print('test4 : ',classifier.predict(test4))\n",
        "print('test5 : ',classifier.predict(test5))\n",
        "print('test6 : ',classifier.predict(test6))\n",
        "print('test7 : ',classifier.predict(test7))\n",
        "print('test8 : ',classifier.predict(test8))"
      ]
    },
    {
      "cell_type": "code",
      "execution_count": null,
      "metadata": {
        "id": "Mc-gTCZlDZ1o"
      },
      "outputs": [],
      "source": []
    },
    {
      "cell_type": "markdown",
      "metadata": {
        "id": "mzTjJ3aQDa9r"
      },
      "source": [
        "# Naive Bayes Theorem"
      ]
    },
    {
      "cell_type": "code",
      "execution_count": null,
      "metadata": {
        "colab": {
          "base_uri": "https://localhost:8080/"
        },
        "id": "_KCEEj3PE9BP",
        "outputId": "84e796c1-a193-4a37-f408-a83de546fc4e"
      },
      "outputs": [
        {
          "data": {
            "text/plain": [
              "Index(['label', 'message', 'length', 'punct'], dtype='object')"
            ]
          },
          "execution_count": 55,
          "metadata": {},
          "output_type": "execute_result"
        }
      ],
      "source": [
        "data.columns"
      ]
    },
    {
      "cell_type": "code",
      "execution_count": null,
      "metadata": {
        "colab": {
          "base_uri": "https://localhost:8080/"
        },
        "id": "AfU83FoTEnpB",
        "outputId": "7a24e50b-eb16-49d0-ae3f-d638bafb93c7"
      },
      "outputs": [
        {
          "name": "stderr",
          "output_type": "stream",
          "text": [
            "[nltk_data] Downloading package stopwords to /root/nltk_data...\n",
            "[nltk_data]   Package stopwords is already up-to-date!\n"
          ]
        }
      ],
      "source": [
        "import re\n",
        "import nltk\n",
        "nltk.download('stopwords')\n",
        "from nltk.corpus import stopwords\n",
        "from nltk.stem.porter import PorterStemmer\n",
        "ps = PorterStemmer()\n",
        "corpus = []\n",
        "\n",
        "for i in range(0, len(data)):\n",
        "  review = re.sub('[^a-zA-Z]', ' ', data['message'][i])\n",
        "  review = review.lower()\n",
        "  review = review.split()\n",
        "  review = [ps.stem(word) for word in review if not word in stopwords.words('english')]\n",
        "  review = ' '.join(review)\n",
        "  corpus.append(review)"
      ]
    },
    {
      "cell_type": "code",
      "execution_count": null,
      "metadata": {
        "colab": {
          "base_uri": "https://localhost:8080/"
        },
        "id": "o7IM2Yn5Fo7O",
        "outputId": "6cbfc023-69c1-42b0-fd72-6e93b58db374"
      },
      "outputs": [
        {
          "data": {
            "text/plain": [
              "['haha kid papa need drug',\n",
              " 'good afternoon babe goe day job prospect yet miss love sigh',\n",
              " 'peopl see msg think iam addict msging wrong bcoz know iam addict sweet friend bslvyl',\n",
              " 'aight text address',\n",
              " 'nope drivin neva develop da photo lei',\n",
              " 'take post come must text happi read one wiv hello carolin end favourit bless',\n",
              " 'greatest test courag earth bear defeat without lose heart gn tc',\n",
              " 'add realli care least get dude fuck hey money want',\n",
              " 'good thing get connect bw',\n",
              " 'see christmassi',\n",
              " 'lol oh got friend dog',\n",
              " 'plz tell an bslvyl sent via fullonsm com',\n",
              " 'sure neighbor didnt pick',\n",
              " 'bring got',\n",
              " 'ah poop look like ill prob send laptop get fix cuz gpu problem',\n",
              " 'jay say doubl faggot',\n",
              " 'problem talk later',\n",
              " 'famili happi',\n",
              " 'wyli updat weed dealer carlo went freedom class lunsford',\n",
              " 'si lor juz watch italian job',\n",
              " 'wondarful song',\n",
              " 'gorgeou keep pix cum thank',\n",
              " 'ello babe u ok',\n",
              " 'ok come n pick u engin',\n",
              " 'wat r u busi wif work',\n",
              " 'per request mell mell oru minnaminungint nurungu vettam set callertun caller press copi friend callertun',\n",
              " 'win realli side long time',\n",
              " 'bognor splendid time year',\n",
              " 'thanx day u r goodmat think ur rite sari asusu u cheer love u franyxxxxx',\n",
              " 'oh love soooo good hear omg miss much today sorri problem provid thank tming',\n",
              " 'see film',\n",
              " 'hi keen go kind feel go tomo mind',\n",
              " 'ok let noe later n ask call u tmr',\n",
              " 'anyth lor',\n",
              " 'work pleas call',\n",
              " 'well go aunti',\n",
              " 'boy best get yo ass quick',\n",
              " 'anyth lor',\n",
              " 'pay first lar da stock comin',\n",
              " 'lara said loan lt gt',\n",
              " 'ok stay night xavier sleep bag get tire',\n",
              " 'hey sorri didntgiv ya bellearli hunni bedbut mite go thepub l tr uwana mt load luv jenxxx',\n",
              " 'yet chikku wat abt u',\n",
              " 'hope enjoy game yesterday sorri touch pl know fondli bein thot great week abiola',\n",
              " 'may call later pl',\n",
              " 'lol know awesom phone could click delet right want',\n",
              " 'dude fake frnd got money tht reffer u u member wit mail link u vl credit lt gt rs il geti lt gt rs draw acc wen lt gt rs',\n",
              " 'good morn princess happi new year',\n",
              " 'email yifeng part oredi get fr',\n",
              " 'come sec somebodi want see',\n",
              " 'busi come point figur tomorrow',\n",
              " 'accident brought em home box',\n",
              " 'one teach ship car',\n",
              " 'make cri stuff happen top everyth els push edg underdtand often cri sorri sorri life',\n",
              " 'go chase run cross street',\n",
              " 'sac need carri',\n",
              " 'back amp pack car let know room',\n",
              " 'ok thk got u wan come wat',\n",
              " 'great safe trip dont panic surrend',\n",
              " 'hope result consist intellig kind start ask practicum link keep ear open best ttyl',\n",
              " 'oi gonna ring',\n",
              " 'lol ok rememb til last nite',\n",
              " 'edison rightli said fool ask question wise man answer know us speechless viva gm gn ge gnt',\n",
              " 'see cup coffe anim',\n",
              " 'k k busi',\n",
              " 'raji pl favour pl convey birthday wish nimya pl today birthday',\n",
              " 'also piec',\n",
              " 'comput fri essenti part keep spare fuck idiot roommat looovvv leav thing run full lt gt',\n",
              " 'come karnan car pleas wait till pm directli goto doctor',\n",
              " 'fuuuuck need stop sleepin sup',\n",
              " 'mani peopl seem special first sight remain special till last sight maintain till life end sh ja',\n",
              " 'havent plan buy later check alreadi lido got show e afternoon u finish work alreadi',\n",
              " 'network job',\n",
              " 'wat r u',\n",
              " 'hmm mani unfortun pic obvious arent hot cake kinda fun tho',\n",
              " 'one joy lifei wake daywith thought somewheresomeon care enough tosend warm morn greet',\n",
              " 'sorri free',\n",
              " 'plz note anyon call mobil co amp ask u type lt gt lt gt disconnect call coz iz attempt terrorist make use sim card itz confirmd nokia n motorola n verifi cnn ibn',\n",
              " 'wen u miss someon person definit special u person special miss keep touch gdeve',\n",
              " 'gimm lt gt minut ago',\n",
              " 'aiyo pleas got time meh',\n",
              " 'hey check da list da',\n",
              " 'celebr b day els',\n",
              " 'oi ami parchi na kicchu kaaj kort iccha korch na phone ta tul na plz plz',\n",
              " 'think might give miss teach til twelv lectur two damn work thing',\n",
              " 'wait call sir',\n",
              " 'dare stupid wont tell anyth hear wont talk',\n",
              " 'offic da',\n",
              " 'tomorrow go theatr come wherev u call tell come tomorrow',\n",
              " 'lol wtf random btw lunch break',\n",
              " 'cinema plu drink appeal tomo fr thriller director like mac',\n",
              " 'sound like could lot time spent chastiti devic boy grin take beat like good dog go loung nice long bath',\n",
              " 'nice wait text right gonna pay ticket ya know',\n",
              " 'will go app class',\n",
              " 'u lost ill alway b u intend hurt u never knew u felt iwa marin itri tell urmom careabout u',\n",
              " 'awesom deal gate charl told last night uh yeah',\n",
              " 'near kalainar tv offic thenampet',\n",
              " 'lol grr mom take forev prescript pharmaci like minut away ugh',\n",
              " 'ok may free gym',\n",
              " 'ft good combin',\n",
              " 'hey u fanci meetin cha hav lil beverag txt ring meet l r quit tire got v pist love pete x x x',\n",
              " 'sound better even im costum im sure time finish tomorrow txt end',\n",
              " 'know dad back',\n",
              " 'night worri appt shame miss girl night quizz popcorn hair',\n",
              " 'wat make u thk fall actual thk quit prone fall lucki dad home ask come n fetch alreadi',\n",
              " 'get back time soon',\n",
              " 'goodmorn today late hr back pain',\n",
              " 'en chikku nang bakra msg kalstiya tea coffe',\n",
              " 'per request mell mell oru minnaminungint nurungu vettam set callertun caller press copi friend callertun',\n",
              " 'sen told go join uncl financ cbe',\n",
              " '',\n",
              " 'height oh shit situat guy throw luv letter gal fall brother head who gay',\n",
              " 'mm ask call radio',\n",
              " 'sorri call later',\n",
              " 'beauti truth graviti read care heart feel light someon feel heavi someon leav goodmorn',\n",
              " 'dun need pick ur gf',\n",
              " 'sent ur email id soon',\n",
              " 'ok said got wisdom teeth hidden insid n mayb need remov',\n",
              " 'oki scare u say fat u dun wan alreadi',\n",
              " 'dai download exe file run exe instal',\n",
              " 'oh send address',\n",
              " 'well still bit left guy want tonight',\n",
              " 'tell bad charact u dnt lik tri chang lt gt add tat new year resolut wait ur repli frank good morn',\n",
              " 'late',\n",
              " 'left alreadi orchard',\n",
              " 'dunno co v late n reach insid alreadi ate spageddi lor e gal r laugh lor',\n",
              " 'much better thank lol',\n",
              " 'oh oh den muz chang plan liao go back yan jiu',\n",
              " 'ye post coupl pic fb still snow outsid wake',\n",
              " 'minor shindig place later tonight interest',\n",
              " 'mum go robinson alreadi',\n",
              " 'ex wife abl kid want kid one day',\n",
              " 'dude got haircut breezi',\n",
              " 'get ticket walsal tue th march mate get sat ill pay treat want go txt bak terri',\n",
              " 'hex place talk explain',\n",
              " 'hope great new semest wish best made great',\n",
              " 'k make sens btw carlo difficult guy gonna smoke go pick second batch get ga',\n",
              " 'ultim tor motiv tui achiev korli',\n",
              " 'hey dont go watch x men lunch haha',\n",
              " 'fear faint housework quick cuppa',\n",
              " 'come slave go shell unconsci avoid make unhappi',\n",
              " 'hmmm thought said hour slave late punish',\n",
              " 'dear good morn feel dear',\n",
              " 'pizza u want',\n",
              " 'cant pick phone right pl send messag',\n",
              " 'ok bu come soon come otherwis tomorrow',\n",
              " 'jo ask u wana meet',\n",
              " 'stalk u',\n",
              " 'day class class',\n",
              " 'mmmmm sooooo good wake word morn love mmmm fuck love lion devour kiss across sea',\n",
              " 'wow never realiz embarass accomod thought like sinc best could alway seem happi cave sorri give sorri offer sorri room embarass',\n",
              " 'sindu got job birla soft',\n",
              " 'princess like make love lt gt time per night hope that problem',\n",
              " 'helloooo wake sweet morn welcom enjoy day full joy gud mrng',\n",
              " 'one week leav put know time',\n",
              " 'home pleas call',\n",
              " 'time tell friend around',\n",
              " 'much torch ja',\n",
              " 'make dinner',\n",
              " 'happen r waxsto wat want come ill get medic insur abl deliv basic care current shop right medic insur give til friday morn that see major person guid right insur',\n",
              " 'thank wonder',\n",
              " 'sleep nt feel well',\n",
              " 'go bath msg next lt gt min',\n",
              " 'sorri da gone mad mani pend work',\n",
              " 'one stalk profil',\n",
              " 'yeah see',\n",
              " 'come round',\n",
              " 'ya one slow poo',\n",
              " 'lolnic went fish water',\n",
              " 'good good billi mate gone jog enjoy concert',\n",
              " 'u say leh cours noth happen lar say v romant ju bit lor thk e nite sceneri nice leh',\n",
              " 'omg joanna freak look thru friend find photo ask stuff myspac even log like year',\n",
              " 'come',\n",
              " 'awesom text restock',\n",
              " 'nt joke serious told',\n",
              " 'shhhhh nobodi suppos know',\n",
              " 'told accentur confirm true',\n",
              " 'imagin final get sink bath put pace mayb even eat left also imagin feel cage cock surround bath water remind alway own enjoy cuck',\n",
              " 'yeah hope tyler could mayb ask around bit',\n",
              " 'alway make thing bigger',\n",
              " 'dear cherthala case u r come cochin pl call bfore u start shall also reach accordingli tell day u r come tmorow engag an holiday',\n",
              " 'hmm ill think ok forgiven',\n",
              " 'pleas tell special stock talk',\n",
              " 'tell tell one treat hi hi hi',\n",
              " 'well offici philosoph hole u wanna call home readi save',\n",
              " 'send email mind lt gt time per night',\n",
              " 'em olowoyey usc edu great time argentina sad secretari everyth bless',\n",
              " 'oh unintent bad time great finger train play along give fifteen min warn',\n",
              " 'nobodi name peni girl name stori add',\n",
              " 'sorri flake last night shit serious goin roommat tonight',\n",
              " 'k k sm chat',\n",
              " 'dog must alway wait till end day word run time cell alreadi',\n",
              " 'jane babe goin wrk feel ill lst nite fone alreadi cover chuck',\n",
              " 'somebodi set websit play hold em use eve onlin spacebuck',\n",
              " 'told hr want post chennai work',\n",
              " 'ok go sleep hope meet',\n",
              " 'see forward messag proof',\n",
              " 'know thing wrong everyso often panick start goin bout bein good enough',\n",
              " 'say good sign well know track record read women',\n",
              " 'free',\n",
              " 'how pain dear r u smile',\n",
              " 'kalli home ground amla home town durban',\n",
              " 'life mean lot love life love peopl life world call friend call world ge',\n",
              " 'worri hope photo shoot went well spif fun workag',\n",
              " 'india go draw seri mani year south african soil',\n",
              " 'want grasp pretti booti',\n",
              " 'case guess see campu lodg',\n",
              " 'mom want know',\n",
              " 'got anoth job one hospit data analysi someth start monday sure thesi got finish',\n",
              " 'hey project start aha da',\n",
              " 'k give back thank',\n",
              " 'ye outsid like hour call whole famili wake caus start',\n",
              " 'go write msg put dictionari mode cover screen hand press lt gt gentli remov ur hand interest',\n",
              " 'ye small kid boost secret energi',\n",
              " 'pl dont restrict eat anythin like next two day',\n",
              " 'ha ha cool cool chikku chikku db',\n",
              " 'mmmmm love wake word morn miss love hope day goe well happi wait us togeth',\n",
              " 'get tomorrow send',\n",
              " 'guess spent last night phase fourth dimens',\n",
              " 'carlo took leav minut',\n",
              " 'yar want scold u yest late alreadi got zhong se qing u ask b ask go w u lor n u still act real',\n",
              " 'suppos wake gt',\n",
              " 'k k perform',\n",
              " 'piti mood suggest',\n",
              " 'ranjith cal drpd deeraj deepak min hold',\n",
              " 'get class bsn like lt gt minut know advis',\n",
              " 'thought put back box',\n",
              " 'pl pl find aunt nike',\n",
              " 'got fujitsu ibm hp toshiba got lot model say',\n",
              " 'hey book kb sat alreadi lesson go ah keep sat night free need meet confirm lodg',\n",
              " 'finish alreadi yar keep say mushi embarrass ok',\n",
              " 'much textin bout',\n",
              " 'awesom plan get time like lt gt text detail wee bit',\n",
              " 'haha figur well found piec priscilla bowl',\n",
              " 'babe goe day miss alreadi love love kiss hope everyth goe well',\n",
              " 'ye rent expens way save',\n",
              " 'pl dont forget studi',\n",
              " 'well uv caus mutat sunscreen like essenti theseday',\n",
              " 'oh mr sheffield wanna play game okay boss nanni give rais give one',\n",
              " 'happi new year princess',\n",
              " 'ola would get back mayb today told direct link us get car bid onlin arrang ship get cut u partnership u invest money ship take care rest u wud b self reliant soon dnt worri',\n",
              " 'head dey swell oh thank make day',\n",
              " 'sunni california weather cool',\n",
              " 'good afternoon boytoy feel today better hope good boy obedi slave pleas queen',\n",
              " 'ye sura sun tv lol',\n",
              " 'u buy newspap alreadi',\n",
              " 'noth meant money enter account bank remov flat rate someon transfer lt gt account lt gt dollar got remov bank differ charg also differ sure trust ja person send account detail co',\n",
              " 'sorri man accident left phone silent last night check til got',\n",
              " 'thank repli today ur visa come r u still buy gucci bag sister thing easi uncl john also bill realli need think make money later sha',\n",
              " 'super da good replac murali',\n",
              " 'hi way u day normal way real ur uniqu hope know u rest mylif hope u find wot lost',\n",
              " 'hey want anyth buy',\n",
              " 'pick variou point',\n",
              " 'lip sync shangela',\n",
              " 'world happiest frnd never charact dey best understand differ',\n",
              " 'ye offic da',\n",
              " 'mm food da',\n",
              " 'u better go sleep dun disturb u liao u wake msg lor',\n",
              " 'come friday leav pongal get news work place',\n",
              " 'k send lt gt min',\n",
              " 'havent add yet right',\n",
              " 'beauti tomorrow never come come alreadi today hunt beauti tomorrow wast wonder today goodmorn',\n",
              " 'compani good environ terrif food realli nice',\n",
              " 'also fuck famili go rhode island wherev fuck leav alon week new bong gt',\n",
              " 'cheer messag zogtoriu stare phone age decid whether text',\n",
              " 'check mail mail varma kept copi regard membership take care insha allah',\n",
              " 'wondar full flim',\n",
              " 'hm good morn headach anyon',\n",
              " 'co want thing',\n",
              " 'hello love goe day wish well fine babe hope find job prospect miss boytoy teas kiss',\n",
              " 'cud u tell ppl im gona b bit l co buse hav gon past co full im still waitin pete x',\n",
              " 'dint touch',\n",
              " 'better made friday stuf like pig yesterday feel bleh least writh pain kind bleh',\n",
              " 'one day billion class right',\n",
              " 'yup wun believ wat u realli neva c e msg sent shuhui',\n",
              " 'safe trip nigeria wish happi soon compani share moment',\n",
              " 'wanna gym',\n",
              " 'call get chanc plz lt',\n",
              " 'u',\n",
              " 'wat dear sleep ah',\n",
              " 'hope feel great pl fill abiola',\n",
              " 'sun anti sleep medicin',\n",
              " 'student solv cat question xam lt gt lt gt lt gt tell answer u r brilliant thing got answr',\n",
              " 'ill call even ill idea',\n",
              " 'sorri call later',\n",
              " 'finish eat got u plate leftov time',\n",
              " 'probabl gonna see later tonight lt',\n",
              " 'beliv come home',\n",
              " 'mean got epi fine',\n",
              " 'work pleas call',\n",
              " 'oh god almost home',\n",
              " 'time thinkin goin',\n",
              " 'enjoy urself tmr',\n",
              " 'lol oop sorri fun',\n",
              " 'k eng rock ash',\n",
              " 'born god said oh anoth idiot born god said oh competit knew one day two becom freind forev',\n",
              " 'nah think goe usf live around though',\n",
              " 'think chennai well settl',\n",
              " 'ok prob come lunch',\n",
              " 'head straight',\n",
              " 'enjoy semest take care brother',\n",
              " 'wake sinc check stuff saw true avail space pl call embassi send mail',\n",
              " 'hair cream ship',\n",
              " 'whatev juliana whatev want',\n",
              " 'interest like',\n",
              " 'oh got mani respons',\n",
              " 'good afternoon love good see word ym get tm smart move slave smile drink coffe await',\n",
              " 'need coz never go',\n",
              " 'sir need axi bank account bank address',\n",
              " 'good morn repair shop reason hour',\n",
              " 'make fuck sake x',\n",
              " 'wonder get text',\n",
              " 'hey happi birthday',\n",
              " 'armand say get ass epsilon',\n",
              " 'call meet',\n",
              " 'lor ya go dinner togeth',\n",
              " 'u welcom caught u use broken english',\n",
              " 'import prevent dehydr give enough fluid',\n",
              " 'miss vday parachut doubl coin u must know well',\n",
              " 'ok',\n",
              " 'anyth lar',\n",
              " 'geeee miss alreadi know think fuck wait till next year togeth love kiss',\n",
              " 'mmmmmmm snuggl deep content sigh whisper fuck love much bare stand',\n",
              " 'gr see messag r u leav congrat dear school wat r ur plan',\n",
              " 'yup need ju wait e rain stop',\n",
              " 'mean post wrote like mani time ritten stuff let sit feel time angri left hit send stop check phone got car said sleep bore time clean fold laundri etc least make bed',\n",
              " 'two carton u pleas shelv',\n",
              " 'usual person unconsci children adult may behav abnorm call',\n",
              " 'wait lt gt min',\n",
              " 'cant u tri new invent fli joke',\n",
              " 'yup thk cine better co need go plaza mah',\n",
              " 'height confid aeronaut professor wer calld amp wer askd sit aeroplan aftr sat wer told dat plane ws made student dey hurri plane bt didnt move said made student wont even start datz confid',\n",
              " 'u goin nite',\n",
              " 'india take lead',\n",
              " 'wow love sooo much know bare stand wonder day goe well love think miss',\n",
              " 'call said choos futur',\n",
              " 'dont give monkey wot think certainli mind friend mine sleep wiv wud annoyin',\n",
              " 'got divorc lol',\n",
              " 'uncl atlanta wish guy great semest',\n",
              " 'project pa come',\n",
              " 'great shoot big load get readi',\n",
              " 'k give sec break lt gt cstore',\n",
              " 'hmm ok stay like hour co eye realli sore',\n",
              " 'aslamalaikkum insha allah tohar beeen muht albi mufti mahfuuz mean',\n",
              " 'how champ leav glasgow',\n",
              " 'jesu christ bitch tri give drug answer fuck phone',\n",
              " 'perhap much easi give account identif tomorrow uni',\n",
              " 'chinatown got porridg claypot rice yam cake fishhead beehoon either eat cheap den go cafe n tok go nydc somethin',\n",
              " 'boy love gal propsd bt didnt mind gv lv lttr bt frnd threw thm boy decid aproach gal dt time truck speed toward gal wn hit girl boy ran like hell n save ask hw cn u run fast boy repli boost secret energi n instantli girl shout energi n thi live happili gthr drink boost evrydi moral stori hv free msg gud ni',\n",
              " 'ok prob',\n",
              " 'machan go gym tomorrow wil come late goodnight',\n",
              " 'onum ela pa normal',\n",
              " 'u lousi run alreadi come back half dead hee',\n",
              " 'love start attract feel need everi time around first thing come thought would start day end everi time dream love everi breath name life happen around life name would cri give happi take sorrow readi fight anyon love craziest thing love proov anyon girl beauti ladi whole planet alway sing prais love start make chicken curri end maki sambar life beauti get everi morn thank god day would like say lot tell later',\n",
              " 'haha yeah see sec',\n",
              " 'sorri de went shop',\n",
              " 'pl help tell ashley cant find number oh',\n",
              " 'got got colour lor one colour quit light n e darker lor actual done style hair',\n",
              " 'r u say order slipper co pay return',\n",
              " 'sign matur start say big thing actual start understand small thing nice even bslvyl',\n",
              " 'tirupur call da',\n",
              " 'give fli monkey wot think certainli mind friend mine',\n",
              " 'tuesday night r u real',\n",
              " 'sorri call later',\n",
              " 'forgotten might coupl buck send tomorrow k love ya',\n",
              " 'uworld site buy qbank buy self assess also',\n",
              " 'stop howev suggest stay someon abl give or everi stool',\n",
              " 'hey tmr mayb meet yck',\n",
              " 'beauti sleep help ur pimpl',\n",
              " 'u send home first ok lor readi yet',\n",
              " 'sent like',\n",
              " 'huh slow tot u reach long ago liao u day leh',\n",
              " 'excel see riley plan',\n",
              " 'eldest know',\n",
              " 'town ju take mrt later',\n",
              " 'say hi get ass back south tampa prefer kegger',\n",
              " 'alreadi sabarish ask go',\n",
              " 'god bless get good sleep dear pray',\n",
              " 'come back tampa ffffuuuuuuu',\n",
              " 'per request maangalyam alaipayuth set callertun caller press copi friend callertun',\n",
              " 'sorri din lock keypad',\n",
              " 'releas vday shirt u put make bottom half nake instead white underwear',\n",
              " 'cant see join deni mina deni want alon time',\n",
              " 'meet lunch la',\n",
              " 'whore unbeliev',\n",
              " 'dunno close oredi v fan',\n",
              " 'k happen tonight',\n",
              " 'that cool cum',\n",
              " 'aiyah e rain like quit big leh drizzl least run home',\n",
              " 'consid wall bunker shit import never play peac guess place high enough matter',\n",
              " 'love know feel make belli warm wish love shall meet dream ahmad ador kiss',\n",
              " 'aight grab someth eat text back mu',\n",
              " 'check room befor activ',\n",
              " 'ju tell u dat b leav shanghai st instead haf time meet cya',\n",
              " 'awesom rememb last time got somebodi high first time diesel v',\n",
              " 'oh ho first time u use type word',\n",
              " 'k see k',\n",
              " 'think chennai forgot come auction',\n",
              " 'nope b go sch fri quit earli lor co my si got paper da morn',\n",
              " 'ee msg na poortiyagi odalebeku hanumanji name hanuman bajarangabali maruti pavanaputra sankatmochan ramaduth mahav ee name lt gt janarig ivatt kalisidar next saturday olag ondu good news keluviri maretar ind dodda problum nalli siguviri idu matra lt gt true neglet',\n",
              " 'know lack particular dramastorm detail part worri',\n",
              " 'fact clean show know upset prioriti constantli want need',\n",
              " 'talk that de wont',\n",
              " 'yup thk r e teacher said make face look longer darren ask cut short',\n",
              " 'plan manag',\n",
              " 'happen tell truth',\n",
              " 'seem like weird time night g want come smoke day shitstorm attribut alway come make everyon smoke',\n",
              " 'take derek amp taylor walmart back time done leav mous desk text priscilla readi',\n",
              " 'also rememb bead come ever',\n",
              " 'got ur favorit oyster n got favorit sashimi ok lar dun say alreadi wait ur stomach start rumbl',\n",
              " 'wat r u',\n",
              " 'alright see bit',\n",
              " 'slave want take pictur today bright light cell phone bright light',\n",
              " 'sorri man stash ran dri last night pick sunday',\n",
              " 'gonna get rimac access',\n",
              " 'got lot hair dresser fr china',\n",
              " 'sorri call later meet',\n",
              " 'littl difficult simpl way enter place',\n",
              " 'watch cartoon listen music amp eve go templ amp church u',\n",
              " 'aight lemm know',\n",
              " 'love cuddl want hold strong arm right',\n",
              " 'spoil bed well',\n",
              " 'like di sweater fr mango size alreadi irrit',\n",
              " 'happi sad one thing past good morn',\n",
              " 'yalru lyfu astn chikku bt innu mundh lyf ali halla ke bilo marriag program edha lyf nt yet ovr chikku ali vargu lyfu meow meow',\n",
              " 'think da wil',\n",
              " 'happi say',\n",
              " 'ok let u noe leav hous',\n",
              " 'mean u could keep ur word',\n",
              " 'staff placement train amrita colleg',\n",
              " 'erm ill pick pm give enough time get park',\n",
              " 'let snow let snow kind weather bring ppl togeth friendship grow',\n",
              " 'solv case man found murder lt decim gt lt gt afternoon wife call polic polic question everyon wife sir sleep murder took place cook cook garden pick veget hous maid went post offic children went play neighbour went marriag polic arrest murder immedi repli reason u r brilliant',\n",
              " 'plan famili set stone',\n",
              " 'pl go ahead watt want sure great weekend abiola',\n",
              " 'good morn dear great amp success day',\n",
              " 'send greet joy happi gr even',\n",
              " 'dint come us',\n",
              " 'lover need',\n",
              " 'peopl mu tabl lambda',\n",
              " 'yeah tri scroung someth',\n",
              " 'ok lor soni ericsson salesman ask shuhui say quit gd use consid',\n",
              " 'that cool day',\n",
              " 'fine simpli sit',\n",
              " 'smith wast da wanna gayl',\n",
              " 'go tri month ha ha joke',\n",
              " 'collect ur laptop go configur da set izzit',\n",
              " 'tri neva mate',\n",
              " 'u mean u almost done done wif sleep tot u go take nap yup send liao pick ard smth lor',\n",
              " 'drama pl enough famili struggl hot sun strang place reason ego go invit actual necess go wait seriou reppurcuss',\n",
              " 'actual exam harder nbme',\n",
              " 'u come funer home',\n",
              " 'short cute good person dont tri prove gud noon',\n",
              " 'know god creat gap finger one made come amp fill gap hold hand love',\n",
              " 'someon smoke everi time smoke last two week call text want smoke',\n",
              " 'open mca',\n",
              " 'lol ye friendship hang thread caus u buy stuff',\n",
              " 'yeh indian nice tho kane bit shud go drink sometim soon mite hav go da work laugh soon love pete x x',\n",
              " 'let know kick',\n",
              " 'keep see weird shit bein woah realis actual reason oh',\n",
              " 'k k cant come search job',\n",
              " 'go write msg put dictionari mode cover screen hand press lt gt gentli remov ur hand interest',\n",
              " 'antha num corrct dane',\n",
              " 'huh lei',\n",
              " 'moji love word rich day',\n",
              " 'fine hope good take care',\n",
              " 'go home liao ask dad pick',\n",
              " 'smile pleasur smile pain smile troubl pour like rain smile sum hurt u smile becoz someon still love see u smile',\n",
              " 'say die man feel sad go want know would probabl gone late night',\n",
              " 'printer cool mean groovi wine groovi',\n",
              " 'sent wife text buy tell relax go get wkend',\n",
              " 'nite',\n",
              " 'da birthdat certif april real date today dont publish shall give special treat keep secret way thank wish',\n",
              " 'go jurong point crazi avail bugi n great world la e buffet cine got amor wat',\n",
              " 'bull plan go float ikea without care world live mess anoth day',\n",
              " 'arriv see coupl day lt',\n",
              " 'send new number',\n",
              " 'ok ok take care understand',\n",
              " 'mm time dont like fun',\n",
              " 'wan come come lor din c stripe skirt',\n",
              " 'dad back ph',\n",
              " 'fuck babe miss alreadi know let send money toward net need want crave',\n",
              " 'superior tell friday leav depart except leav way call wahe fathima hr conform',\n",
              " 'daddi take good care',\n",
              " 'anybodi number still thought tact way ask alex',\n",
              " 'stupid possibl',\n",
              " 'honestli made love cup tea promptli drop key burnt finger get',\n",
              " 'sent price mean lt gt g',\n",
              " 'good find way',\n",
              " 'seriou money base',\n",
              " 'aight sound good want come',\n",
              " 'great day beauti one',\n",
              " 'mon oki lor haha best cheap n gd food la ex oso oki depend whether wana eat western chines food den u prefer',\n",
              " 'yup',\n",
              " 'convey regard',\n",
              " 'yeah quit bit left swing tomorrow get',\n",
              " 'sri talk phone parent',\n",
              " 'infact happi new year see',\n",
              " 'today sorri day ever angri ever misbehav hurt plz plz slap urself bcoz ur fault basic good',\n",
              " 'poyyarikatur kolathupalayam unjalur post erod di lt gt',\n",
              " 'tund wish great day abiola',\n",
              " 'life strict teacher bcoz teacher teach lesson amp conduct exam life first conduct exam amp teach lesson happi morn',\n",
              " 'leav around four ok',\n",
              " 'hey around got enough half ten owe',\n",
              " 'loverboy keep come queen hmmm ach speak miss despar',\n",
              " 'u noe wat time e place dat sell close',\n",
              " 'need come home give good lovin',\n",
              " 'ok msg u b leav hous',\n",
              " 'say like dat dun buy ericsson oso cannot oredi lar',\n",
              " 'goodmorn today late lt gt min',\n",
              " 'set place heart mind mind easili forget heart alway rememb wish happi valentin day',\n",
              " 'see half hour',\n",
              " 'ok ill tell compani',\n",
              " 'home watch tv lor',\n",
              " 'like love arrang',\n",
              " 'problem',\n",
              " 'singl singl answer fight plu said broke didnt repli',\n",
              " 'make squeez lt gt buck dad',\n",
              " 'well right gonna get check today steam sale pee text want come get',\n",
              " 'brainless babi doll vehicl sariyag drive madok barolla',\n",
              " 'though shd go n fun bar town someth sound ok',\n",
              " 'oh charg camera',\n",
              " 'oh k k big hitter anyway good',\n",
              " 'latest g still scroung ammo want give new ak tri',\n",
              " 'text doesnt repli let know log',\n",
              " 'guy get back g said think stay mcr',\n",
              " 'think rule tamilnadu tough peopl',\n",
              " 'full heat pa appli oil pa',\n",
              " 'pick pm go taunton still want come',\n",
              " 'plane give month end',\n",
              " 'come back thursday yay gonna ok get money cheer oh yeah everyth alright how school call work',\n",
              " 'save stress person dorm account send account detail money sent',\n",
              " 'ha must walk everywher cannot take tram cousin said walk vic market hotel',\n",
              " 'thanx e browni v nice',\n",
              " 'sorri troubl u buy dad big small sat n sun thanx',\n",
              " 'still check da',\n",
              " 'hmm dunno leh mayb bag goigng dat small ju anyth except perfum smth dat keep',\n",
              " 'sorri call later meet sir',\n",
              " 'pleas sen kind advic pleas come tri',\n",
              " 'still got lesson sch',\n",
              " 'mu tri figur much money everyon ga alcohol jay tri figur weed budget',\n",
              " 'yeah think usual guy still pass last night get ahold anybodi let know throw',\n",
              " 'heard abt tat',\n",
              " 'money issu weigh thank breath easier make sure dont regret thank',\n",
              " 'parti alex nichol',\n",
              " 'min later k',\n",
              " 'wana plan trip sometm',\n",
              " 'complet degre use join financ',\n",
              " 'send ur friend receiv someth ur voic speak express childish naughti sentiment rowdi ful attitud romant shi attract funni lt gt irrit lt gt lovabl repli',\n",
              " 'u talk bout earli morn almost noon',\n",
              " 'actual first time went bed long spoke woke night',\n",
              " 'lol differ go tri find everi real life photo ever took',\n",
              " 'promis get soon text morn let know made ok',\n",
              " 'post l r class',\n",
              " 'ok',\n",
              " 'imposs argu alway treat like sub like never releas remind necessari',\n",
              " 'quit lor dun tell wait get complac',\n",
              " 'home alway chat',\n",
              " 'good afternoon sexi bun goe job search wake first thought alway love wish fine happi know ador',\n",
              " 'got rumour go buy apart chennai',\n",
              " 'open rebtel firefox load put plu sign user name place show two number lower number number pick number pin display okay',\n",
              " 'hey guy know breath neck get bud anyway abl get half track usf tonight',\n",
              " 'good even roger',\n",
              " 'height recycl read twice peopl spend time earn money money spent spend time good morn keep smile',\n",
              " 'horribl gal sch stuff come u got mc',\n",
              " 'staff scienc nu edu sg phyhcmk teach pc',\n",
              " 'haha heard text around',\n",
              " 'wait yesterday',\n",
              " 'reach anoth stop',\n",
              " 'aunti huai juan never pick phone',\n",
              " 'get door',\n",
              " 'stupid possibl',\n",
              " 'ok ask abt e movi u wan ktv oso',\n",
              " 'come n pick ar',\n",
              " 'sure get acknowledg astoundingli tactless gener faggi demand blood oath fo',\n",
              " 'much u tri get',\n",
              " 'ye babi need stretch open pussi',\n",
              " 'long get repli defer admiss til next semest',\n",
              " 'go n buy juz buy get lar',\n",
              " 'wot u bitch',\n",
              " 'yup next stop',\n",
              " 'also bring galileo dobbi',\n",
              " 'got meh',\n",
              " 'late',\n",
              " 'signific dont worri',\n",
              " 'well give co said one nighter persev found one cheap apologis advanc somewher sleep isnt',\n",
              " 'serious tell exact word right',\n",
              " 'alway yahoo messeng send messag get may send mobil mode sha get repli',\n",
              " 'hey morn come ask pa',\n",
              " 'probabl money worri thing come due sever outstand invoic work two three month ago',\n",
              " 'haha mayb u rite u know well da feel like someon gd lor u faster go find one gal group attach liao',\n",
              " 'thanx yup come back sun finish dinner go back hotel time fli tog exactli mth today hope haf mani mth come',\n",
              " 'oh come ah',\n",
              " 'hope much fun without see u tomorrow love jess x',\n",
              " 'happi birthday may ur dream come true',\n",
              " 'anytim',\n",
              " 'see miss call dear brother gr day',\n",
              " 'u love someon dont make love u much u love much dont want love anyon except gud nit',\n",
              " 'still mayb leav credit card get ga get back like told',\n",
              " 'chikku nt yet ya free',\n",
              " 'da stupid da alway send like believ messag pandi mental',\n",
              " 'aight set free think could text blake address occur quit sure thought',\n",
              " 'hey r watch movi tonight prob b home earli',\n",
              " 'hi di yiju meet pm esaplanad tonight',\n",
              " 'number vivek',\n",
              " 'actual decid hungri left yet v',\n",
              " 'er enjoyin indian mo yep sall good hehe how bout u shexi pete xx',\n",
              " 'opinion jada kusruthi lovabl silent spl charact matur stylish simpl pl repli',\n",
              " 'ok good make money',\n",
              " 'big god bring success',\n",
              " 'dai lt gt naal eruku',\n",
              " 'got hella ga money want go grand natur adventur galileo littl bit',\n",
              " 'hi u want join st later meet five call u class',\n",
              " 'lol would awesom payback',\n",
              " 'lt gt g saw day ago guy want sell wifi lt gt g lt gt blank',\n",
              " 'join today',\n",
              " 'lunch onlin',\n",
              " 'sorri da thangam mistak',\n",
              " 'yeah sure leav min',\n",
              " 'yesterday go home',\n",
              " 'oop thk dun haf enuff go check tell',\n",
              " 'talk other probabl come earli tomorrow',\n",
              " 'hi spoke maneesha v like know satisfi experi repli toll free ye',\n",
              " 'mean still think teju',\n",
              " 'hey mate how u honey u ave good holiday gimmi de goss x',\n",
              " 'necessarili respect',\n",
              " 'yet like keep touch easiest way barcelona way ru hous',\n",
              " 'go dinner soon',\n",
              " 'fuck babe happen come never came back',\n",
              " 'start skye',\n",
              " 'bugi juz wat walk home oredi late repli oso saw top dat like din buy r',\n",
              " 'u town alon',\n",
              " 'hi ask waheeda fathima leav',\n",
              " 'right think',\n",
              " 'night nt stay port step liao ex',\n",
              " 'jay want work first sound',\n",
              " 'yeah probabl sure ilol let u know person wuldnt bother ur goin mite well',\n",
              " 'mind blastin tsunami occur rajnik stop swim indian ocean',\n",
              " 'wish think gonna snow much flurri usual get melt hit ground eek snow sinc lt gt even born',\n",
              " 'nope think go monday sorri repli late',\n",
              " 'work pleas call',\n",
              " 'wot u j',\n",
              " 'hey someth came last min think wun sign tmr hee',\n",
              " 'vl bcum difficult',\n",
              " 'said bad dat e gal know u wat u',\n",
              " 'fine hope also',\n",
              " 'late',\n",
              " 'back good journey let know need receipt shall tell like pendent',\n",
              " 'fishrman woke earli mrng dark wait amp found sack ful stone strtd throwin thm sea pass time atlast ju stone sun rose amp found tht r nt stone diamond moral dont wake earli mrng good night',\n",
              " 'absolut love south park recent start watch offic',\n",
              " 'nationwid auto centr someth like newport road like',\n",
              " 'boy sweet word left morn sigh goe day love start studi',\n",
              " 'oh realli perform write paper go movi home midnight huh',\n",
              " 'get dump heap mom decid come low bore',\n",
              " 'good let thank god pleas complet drug lot water beauti day',\n",
              " 'got salt rub open wound like',\n",
              " 'okay well thank clarif',\n",
              " 'exam februari wish great day',\n",
              " 'forc eat slice realli hungri tho suck mark get worri know sick turn pizza lol',\n",
              " 'howz person stori',\n",
              " 'send someon els',\n",
              " 'let use next week princess',\n",
              " 'aft finish lunch go str lor ard smth lor u finish ur lunch alreadi',\n",
              " 'pl clarifi back open return ticket prepon go back kerala',\n",
              " 'comin fetch us oredi',\n",
              " 'want final lunch today',\n",
              " 'come medic colleg pm forward da',\n",
              " 'hey what u sleep morn',\n",
              " 'way home long dri spell season would',\n",
              " 'got rumour go buy apart chennai',\n",
              " 'lol need cash nitro hurri come crash',\n",
              " 'let know need anyth els salad desert someth mani beer shall get',\n",
              " 'get gift year didnt get anyth bad',\n",
              " 'said gonna snow start around pm tonit predict inch accumul',\n",
              " 'get readi moan scream',\n",
              " 'k wait chikku il send aftr lt gt min',\n",
              " 'pleas charg mobil get morn',\n",
              " 'tell think plu go stop run',\n",
              " 'yavnt tri yet never play origin either',\n",
              " 'min go lunch',\n",
              " 'darren say dat u meet da ge den dun meet dinner co later u leav xy feel awkward den u meet lunch lor',\n",
              " 'u wear',\n",
              " 'tessi pl favor pl convey birthday wish nimya pl dnt forget today birthday shija',\n",
              " 'k roommat also want dubsack anoth friend may also want plan bring extra tell know sure',\n",
              " 'shower babi',\n",
              " 'yo gonna still stock tomorrow today tri get dubsack',\n",
              " 'troubl class go well due dodgey one expect mine tomo see recoveri time place',\n",
              " 'haha awesom might need take doin tonight',\n",
              " 'kalli wont play first two odi',\n",
              " 'lor',\n",
              " 'u switch fone dammit',\n",
              " 'cthen thk shd b enuff still got conclus n content pg n refer b da content pg n cover pg',\n",
              " 'pandi join w technolog today got job',\n",
              " 'avail soire june rd',\n",
              " 'jay say put lt gt',\n",
              " 'sorri call later',\n",
              " 'like v shock leh co tell shuhui like tell leona also like dat almost know liao got ask abt ur reaction lor',\n",
              " 'dont know support ass srt thnk think ps play usb',\n",
              " 'got wat buy tell us need come',\n",
              " 'spoke uncl john today strongli feel need sacrific keep go call beg listen dont make promis make clear thing easi need pleas let us work thing long keep expect help creativ stifl pl keep happi promis part',\n",
              " 'midnight earliest',\n",
              " 'u make fb list',\n",
              " 'love aathi love u lot',\n",
              " 'everi day use sleep lt gt',\n",
              " 'takin shower yeah leav done',\n",
              " 'ok',\n",
              " 'think mentor percent sure',\n",
              " 'want go perumbavoor',\n",
              " 'yup anyth lor u dun wan ok',\n",
              " 'mayb say hi find got card great escap wetherspoon',\n",
              " 'da today also forgot',\n",
              " 'hi babe u r like bed im sorri tonight realli wanna see u tomorrow call love xxx',\n",
              " 'bugi oso near wat',\n",
              " 'valentin huh proof fb page ugh glad realli watch rupaul show tool',\n",
              " 'dude like buff wind',\n",
              " 'good afternoon loverboy goe day luck come way think sweeti send love across sea make smile happi',\n",
              " 'yun buy school got offer plu',\n",
              " 'wrong phone phone answer one assum peopl well',\n",
              " 'love u babe r u sure everyth alrit idiot txt bak girli',\n",
              " 'well good morn mr how london treatin ya treacl',\n",
              " 'fyi take quick shower epsilon like lt gt min',\n",
              " 'ever easier',\n",
              " 'say hi drugdeal',\n",
              " 'see swing bit got thing take care firsg',\n",
              " 'oop let know roommat done',\n",
              " 'yo know anyon lt gt otherwis abl buy liquor guy flake right get hold somebodi loko night',\n",
              " 'vivek got call number',\n",
              " 'hey veggi pizza',\n",
              " 'sorri call later',\n",
              " 'hey compani elama po mudyadhu',\n",
              " 'sorri call later meet thing relat trade pleas call arul lt gt',\n",
              " 'k k colleg',\n",
              " 'know complain num bettr directli go bsnl offc nd appli',\n",
              " 'lmao nice',\n",
              " 'youdo later sar xxx',\n",
              " 'put readi lt time gt',\n",
              " 'home work meh',\n",
              " 'would ip address test consid comput minecraft server',\n",
              " 'good regist vote',\n",
              " 'film ill call later',\n",
              " 'ok that cool either raglan rd edward rd behind cricket ground gimm ring ur closebi see tuesday',\n",
              " 'want snow freez windi',\n",
              " 'hello got st andrew boy long way cold keep post',\n",
              " 'great hope like man well endow lt gt inch',\n",
              " 'better bb wont use wife doctor',\n",
              " 'said okay sorri',\n",
              " 'hiya probabl come home weekend next',\n",
              " 'free entri wkli comp win fa cup final tkt st may text fa receiv entri question std txt rate c appli',\n",
              " 'freemsg hey darl week word back like fun still tb ok xxx std chg send rcv',\n",
              " 'winner valu network custom select receivea prize reward claim call claim code kl valid hour',\n",
              " 'mobil month u r entitl updat latest colour mobil camera free call mobil updat co free',\n",
              " 'six chanc win cash pound txt csh send cost p day day tsandc appli repli hl info',\n",
              " 'urgent week free membership prize jackpot txt word claim c www dbuk net lccltd pobox ldnw rw',\n",
              " 'xxxmobilemovieclub use credit click wap link next txt messag click http wap xxxmobilemovieclub com n qjkgighjjgcbl',\n",
              " 'england v macedonia dont miss goal team news txt ur nation team eg england tri wale scotland txt poboxox w wq',\n",
              " 'thank subscript rington uk mobil charg month pleas confirm repli ye repli charg',\n",
              " 'rodger burn msg tri call repli sm free nokia mobil free camcord pleas call deliveri tomorrow',\n",
              " 'sm ac sptv new jersey devil detroit red wing play ice hockey correct incorrect end repli end sptv',\n",
              " 'congrat year special cinema pass call c suprman v matrix starwar etc free bx ip pm dont miss',\n",
              " 'valu custom pleas advis follow recent review mob award bonu prize call',\n",
              " 'urgent ur award complimentari trip eurodisinc trav aco entri claim txt di morefrmmob shracomorsglsuplt ls aj',\n",
              " 'hear new divorc barbi come ken stuff',\n",
              " 'pleas call custom servic repres pm guarante cash prize',\n",
              " 'free rington wait collect simpli text password mix verifi get usher britney fml po box mk h ppw',\n",
              " 'gent tri contact last weekend draw show prize guarante call claim code k valid hr ppm',\n",
              " 'winner u special select receiv holiday flight inc speak live oper claim p min',\n",
              " 'privat account statement show unredeem bonu point claim call identifi code expir',\n",
              " 'urgent mobil award bonu caller prize final tri contact u call landlin box wr c ppm',\n",
              " 'today voda number end select receiv award match pleas call quot claim code standard rate app',\n",
              " 'sunshin quiz wkli q win top soni dvd player u know countri algarv txt ansr sp tyron',\n",
              " 'want get laid tonight want real dog locat sent direct ur mob join uk largest dog network bt txting gravel nt ec p msg p',\n",
              " 'rcv msg chat svc free hardcor servic text go u get noth u must age verifi yr network tri',\n",
              " 'freemsg repli text randi sexi femal live local luv hear u netcollex ltd p per msg repli stop end',\n",
              " 'custom servic annonc new year deliveri wait pleas call arrang deliveri',\n",
              " 'winner u special select receiv cash holiday flight inc speak live oper claim',\n",
              " 'pl stop bootydeli f invit friend repli ye see www sm ac u bootydeli stop send stop frnd',\n",
              " 'bangbab ur order way u receiv servic msg download ur content u goto wap bangb tv ur mobil internet servic menu',\n",
              " 'urgent tri contact last weekend draw show prize guarante call claim code valid hr',\n",
              " 'pleas call custom servic repres freephon pm guarante cash prize',\n",
              " 'uniqu enough find th august www areyouuniqu co uk',\n",
              " 'new mobil must go txt nokia collect today www tc biz optout gbp mtmsg',\n",
              " 'u meet ur dream partner soon ur career flyng start find free txt horo follow ur star sign e g horo ari',\n",
              " 'text meet someon sexi today u find date even flirt u join p repli name age eg sam msg recd thirtyeight penc',\n",
              " 'u secret admir look make contact u find r reveal think ur special call',\n",
              " 'congratul ur award cd voucher gift guarante free entri wkli draw txt music tnc www ldew com win ppmx age',\n",
              " 'tri contact repli offer video handset anytim network min unlimit text camcord repli call',\n",
              " 'hey realli horni want chat see nake text hot text charg pm unsubscrib text stop',\n",
              " 'ur rington servic chang free credit go club mobil com choos content stop txt club stop p wk club po box mk wt',\n",
              " 'rington club get uk singl chart mobil week choos top qualiti rington messag free charg',\n",
              " 'hmv bonu special pound genuin hmv voucher answer easi question play send hmv info www percent real com',\n",
              " 'mobil custom may claim free camera phone upgrad pay go sim card loyalti call offer end thfeb c appli',\n",
              " 'sm ac blind date u rodd aberdeen unit kingdom check http img sm ac w icmb cktz r blind date send hide',\n",
              " 'themob check newest select content game tone gossip babe sport keep mobil fit funki text wap',\n",
              " 'think ur smart win week weekli quiz text play cs winnersclub po box uz gbp week',\n",
              " 'decemb mobil mth entitl updat latest colour camera mobil free call mobil updat co free',\n",
              " 'call germani penc per minut call fix line via access number prepay direct access',\n",
              " 'valentin day special win quiz take partner trip lifetim send go p msg rcvd custcar',\n",
              " 'fanci shag interest sextextuk com txt xxuk suzi txt cost per msg tnc websit x',\n",
              " 'congratul ur award cd voucher gift guarante free entri wkli draw txt music tnc www ldew com win ppmx age',\n",
              " 'ur cash balanc current pound maxim ur cash send cash p msg cc hg suit land row w j hl',\n",
              " 'updat xma offer latest motorola sonyericsson nokia free bluetooth doubl min txt orang call mobileupd call optout f q',\n",
              " 'discount code rp stop messag repli stop www regalportfolio co uk custom servic',\n",
              " 'thank rington order refer charg gbp per week unsubscrib anytim call custom servic',\n",
              " 'doubl min txt month free bluetooth orang avail soni nokia motorola phone call mobileupd call optout n dx',\n",
              " 'mth half price orang line rental latest camera phone free phone mth call mobilesdirect free updat stoptxt',\n",
              " 'free rington text first poli text get true tone help st free tone x pw e nd txt stop',\n",
              " 'date servic cal l box sk ch',\n",
              " 'free entri weekli competit text word win c www txttowin co uk',\n",
              " 'send logo ur lover name join heart txt love name name mobno eg love adam eve yahoo pobox w wq txtno ad p',\n",
              " 'someon contact date servic enter phone fanci find call landlin pobox n tf p',\n",
              " 'urgent mobil number award prize guarante call land line claim valid hr',\n",
              " 'congrat nokia video camera phone call call cost ppm ave call min vari mobil close post bcm ldn wc n xx',\n",
              " 'loan purpos homeown tenant welcom previous refus still help call free text back help',\n",
              " 'upgrdcentr orang custom may claim free camera phone upgrad loyalti call offer end th juli c appli opt avail',\n",
              " 'okmail dear dave final notic collect tenerif holiday cash award call landlin tc sae box cw wx ppm',\n",
              " 'want get laid tonight want real dog locat sent direct ur mob join uk largest dog network txting moan nyt ec p msg p',\n",
              " 'free messag activ free text messag repli messag word free term condit visit www com',\n",
              " 'congrat year special cinema pass call c suprman v matrix starwar etc free bx ip pm dont miss',\n",
              " 'congratul week competit draw u prize claim call b cs stop sm ppm',\n",
              " 'guarante latest nokia phone gb ipod mp player prize txt word collect ibhltd ldnw h p mtmsgrcvd',\n",
              " 'boltblu tone p repli poli mono eg poli cha cha slide yeah slow jamz toxic come stop tone txt',\n",
              " 'credit top http www bubbletext com renew pin tgxxrz',\n",
              " 'urgent mobil award bonu caller prize nd attempt contact call box qu',\n",
              " 'today offer claim ur worth discount voucher text ye savamob member offer mobil cs sub unsub repli x',\n",
              " 'reciev tone within next hr term condit pleas see channel u teletext pg',\n",
              " 'privat account statement show un redeem point call identifi code expir',\n",
              " 'www applausestor com monthlysubscript p msg max month csc web age stop txt stop',\n",
              " 'gent tri contact last weekend draw show prize guarante call claim code k valid hr ppm',\n",
              " 'cash prize claim call',\n",
              " 'mobil number claim call us back ring claim hot line',\n",
              " 'tri contact repli offer min textand new video phone call repli free deliveri tomorrow',\n",
              " 'ur chanc win wkli shop spree txt shop c www txt shop com custcar x p wk',\n",
              " 'special select receiv pound award call line close cost ppm cs appli ag promo',\n",
              " 'privat account statement show un redeem point call identifi code expir',\n",
              " 'import custom servic announc call freephon',\n",
              " 'xclusiv clubsaisai morow soire special zouk nichol pari free rose ladi info',\n",
              " 'day kick euro u kept date latest news result daili remov send get txt stop',\n",
              " 'new textbuddi chat horni guy ur area p free receiv search postcod gaytextbuddi com txt one name',\n",
              " 'today vodafon number end select receiv award number match call receiv award',\n",
              " 'dear voucher holder claim week offer pc go http www e tlp co uk expressoff ts cs appli stop text txt stop',\n",
              " 'privat account statement show un redeem point call identifi code expir',\n",
              " 'cash prize claim call c rstm sw ss ppm',\n",
              " 'premium phone servic call',\n",
              " 'sm ac sun post hello seem cool want say hi hi stop send stop',\n",
              " 'get ur st rington free repli msg tone gr top tone phone everi week per wk opt send stop',\n",
              " 'hi sue year old work lapdanc love sex text live bedroom text sue textoper g da ppmsg',\n",
              " 'forward pleas call immedi urgent messag wait',\n",
              " 'review keep fantast nokia n gage game deck club nokia go www cnupdat com newslett unsubscrib alert repli word',\n",
              " 'mth half price orang line rental latest camera phone free phone mth call mobilesdirect free updat stoptxt cs',\n",
              " 'pm cost p',\n",
              " 'urgent nd attempt contact u u call b csbcm wc n xx callcost ppm mobilesvari max',\n",
              " 'guarante cash prize claim yr prize call custom servic repres pm',\n",
              " 'email alertfrom jeri stewarts kbsubject low cost prescripiton drvgsto listen email call',\n",
              " 'hi custom loyalti offer new nokia mobil txtauction txt word start get ctxt tc p mtmsg',\n",
              " 'u subscrib best mobil content servic uk per day send stop helplin',\n",
              " 'realiz year thousand old ladi run around tattoo',\n",
              " 'import custom servic announc premier',\n",
              " 'romant pari night flight book next year call ts cs appli',\n",
              " 'urgent ur guarante award still unclaim call closingd claimcod pmmorefrommobil bremov mobypobox ls yf',\n",
              " 'ur award citi break could win summer shop spree everi wk txt store skilgm tsc winawk age perwksub',\n",
              " 'import custom servic announc premier call freephon',\n",
              " 'ever thought live good life perfect partner txt back name age join mobil commun p sm',\n",
              " 'free top polyphon tone call nation rate get toppoli tune sent everi week text subpoli per pole unsub',\n",
              " 'orang custom may claim free camera phone upgrad loyalti call offer end thmarch c appli opt availa',\n",
              " 'last chanc claim ur worth discount voucher today text shop savamob offer mobil cs savamob pobox uz sub',\n",
              " 'free st week nokia tone ur mobil everi week txt nokia get txting tell ur mate www getz co uk pobox w wq norm p tone',\n",
              " 'guarante award even cashto claim ur award call free stop getstop php rg jx',\n",
              " 'congratul ur award either cd gift voucher free entri weekli draw txt music tnc www ldew com win ppmx age',\n",
              " 'u outbid simonwatson shinco dvd plyr bid visit sm ac smsreward end bid notif repli end',\n",
              " 'smsservic yourinclus text credit pl goto www comuk net login qxj unsubscrib stop extra charg help comuk cm ae',\n",
              " 'p alfi moon children need song ur mob tell ur txt tone chariti nokia poli chariti poli zed profit chariti',\n",
              " 'u secret admir reveal think u r special call opt repli reveal stop per msg recd cust care',\n",
              " 'dear voucher holder claim week offer pc pleas go http www e tlp co uk expressoff ts cs appli stop text txt stop',\n",
              " 'want anytim network min text new video phone five pound per week call repli deliveri tomorrow',\n",
              " 'tri contact offer new video phone anytim network min half price rental camcord call repli deliveri wed',\n",
              " 'last chanc claim ur worth discount voucher text ye savamob member offer mobil cs sub remov txt x stop',\n",
              " 'urgent call landlin complimentari ibiza holiday cash await collect sae cs po box sk wp ppm',\n",
              " 'today offer claim ur worth discount voucher text ye savamob member offer mobil cs sub unsub repli x',\n",
              " 'talk sexi make new friend fall love world discreet text date servic text vip see could meet',\n",
              " 'congratul ur award either yr suppli cd virgin record mysteri gift guarante call ts cs www smsco net pm approx min',\n",
              " 'privat account statement xxxxxx show un redeem point call identifi code expir',\n",
              " 'hello need posh bird chap user trial prod champney put need address dob asap ta r',\n",
              " 'u want xma free text messag new video phone half price line rental call free find',\n",
              " 'shop till u drop either k k cash travel voucher call ntt po box cr bt fixedlin cost ppm mobil vari',\n",
              " 'sunshin quiz wkli q win top soni dvd player u know countri liverpool play mid week txt ansr sp tyron',\n",
              " 'u secret admir look make contact u find r reveal think ur special call',\n",
              " 'u secret admir look make contact u find r reveal think ur special call stopsm',\n",
              " 'remind download content alreadi paid goto http doit mymobi tv collect content',\n",
              " 'free rington wait collect simpli text password mix verifi get usher britney fml po box mk h ppw',\n",
              " 'lastest stereophon marley dizze racal libertin stroke win nookii game flirt click themob wap bookmark text wap',\n",
              " 'januari male sale hot gay chat cheaper call nation rate p min cheap p min peak stop text call p min',\n",
              " 'money r lucki winner claim prize text money million give away ppt x normal text rate box w jy',\n",
              " 'dear matthew pleas call landlin complimentari lux tenerif holiday cash await collect ppm sae cs box sk xh',\n",
              " 'urgent call landlin complimentari tenerif holiday cash await collect sae cs box hp yf ppm',\n",
              " 'get touch folk wait compani txt back name age opt enjoy commun p sm',\n",
              " 'ur cash balanc current pound maxim ur cash send go p msg cc po box tcr w',\n",
              " 'filthi stori girl wait',\n",
              " 'urgent tri contact u today draw show prize guarante call land line claim valid hr',\n",
              " 'congrat mobil g videophon r call videochat wid mate play java game dload polyph music nolin rentl',\n",
              " 'pleas call custom servic repres freephon pm guarante cash prize',\n",
              " 'panason bluetoothhdset free nokia free motorola free doublemin doubletxt orang contract call mobileupd call optout',\n",
              " 'free st week nokia tone ur mob everi week txt nokia get txting tell ur mate www getz co uk pobox w wq norm p tone',\n",
              " 'guess somebodi know secretli fanci wanna find give us call landlin datebox essexcm xn p min',\n",
              " 'know someon know fanci call find pobox ls hb p',\n",
              " 'flirt txt girl bloke ur name age eg girl zoe join get chat',\n",
              " 'day euro kickoff u kept inform latest news result daili unsubscrib send get euro stop',\n",
              " 'eastend tv quiz flower dot compar violet e tulip f lili txt e f chanc win cash wkent p',\n",
              " 'new local date area lot new peopl regist area repli date start www flirtparti us repli',\n",
              " 'someon u know ask date servic contact cant guess call reveal po box wu',\n",
              " 'urgent tri contact u today draw show prize guarante call land line claim c valid hr',\n",
              " 'dear u invit xchat final attempt contact u txt chat',\n",
              " 'award sipix digit camera call landlin deliveri within day cs box bp yr warranti ppm p p',\n",
              " 'win urgent mobil number award prize guarante call land line claim valid hr ppm',\n",
              " 'dear subscrib ur draw gift voucher b enter receipt correct an elvi presley birthday txt answer',\n",
              " 'messag import inform user today lucki day find log onto http www urawinn com fantast surpris await',\n",
              " 'price claim call',\n",
              " 'bore speed date tri speedchat txt speedchat like em txt swap get new chatter chat pobox w wq p msg rcd',\n",
              " 'want anytim network min text new video phone five pound per week call repli deliveri tomorrow',\n",
              " 'take part mobil survey yesterday text use howev wish get txt send txt c www txt com p',\n",
              " 'ur hmv quiz cash balanc current maxim ur cash send hmv p msg',\n",
              " 'dont forget place mani free request stchoic co uk wish inform call',\n",
              " 'know u u know send chat let find p msg rcvd hg suit land row w j hl ldn year',\n",
              " 'thank winner notifi sm good luck futur market repli stop custom servic',\n",
              " 'girl mani local u r virgin r readi fil ur everi sexual need u fil text cute p',\n",
              " 'free entri wkli comp win fa cup final tkt st may text fa receiv entri question std txt rate c appli',\n",
              " 'got take take part wrc ralli oz u lucozad energi text ralli le p see pack lucozad co uk wrc itcould u',\n",
              " 'sex ur mobil free sexi pic jordan text babe everi wk get sexi celeb pocketbab co uk pic wk',\n",
              " 'new voicemail pleas call',\n",
              " 'win year suppli cd store ur choic worth enter weekli draw txt music ts cs www ldew com sub win ppmx',\n",
              " 'sim subscrib select receiv bonu get deliv door txt word ok claim p msg exp apr',\n",
              " 'new voicemail pleas call',\n",
              " 'nokia tone ur mob everi week txt nok st tone free get txtin tell ur friend p tone repli hl info',\n",
              " 'winner u special select receiv cash holiday flight inc speak live oper claim',\n",
              " 'repli name address receiv post week complet free accommod variou global locat www phb com ph p',\n",
              " 'free entri weekli comp send word enter c www textcomp com cust care',\n",
              " 'pleas call immedi urgent messag wait',\n",
              " 'hungri gay guy feel hungri call p min stop text call p min',\n",
              " 'u get phone wanna chat set meet call u cum moro luv jane xx call minmoremobsemspobox po wa',\n",
              " 'network oper servic free c visit biz',\n",
              " 'enjoy jamster videosound gold club credit new videosound logo musicnew get fun jamster co uk help call',\n",
              " 'get lion england tone repli lionm mono lionp poli go www rington co uk origin n best tone gbp network oper rate appli',\n",
              " 'win newest harri potter order phoenix book repli harri answer question chanc first among reader',\n",
              " 'ur balanc ur next question sang uptown girl answer txt ur answer good luck',\n",
              " 'free day sexi st georg day pic jordan txt pic dont miss everi wk sauci celeb pic c pocketbab co uk wk',\n",
              " 'hot live fantasi call p per min ntt ltd po box croydon cr wb k',\n",
              " 'bear pic nick tom pete dick fact type tri gay chat photo upload call p min stop text call',\n",
              " 'new mobil must go txt nokia collect today www tc biz optout gbp mtmsg txtauction',\n",
              " 'doubl min doubl txt price linerent latest orang bluetooth mobil call mobileupd latest offer call optout lf',\n",
              " 'nokia tone ur mob everi week txt nok st tone free get txtin tell ur friend p tone repli hl info',\n",
              " 'urgent import inform user today lucki day find log onto http www urawinn com fantast surpris await',\n",
              " 'dear u invit xchat final attempt contact u txt chat p msgrcvdhg suit land row w j hl ldn yr',\n",
              " 'congratul ur award either cd gift voucher free entri weekli draw txt music tnc www ldew com win ppmx age',\n",
              " 'sale arsen dartboard good condit doubl trebl',\n",
              " 'free st week entri textpod chanc win gb ipod cash everi wk txt pod ts cs www textpod net custcar',\n",
              " 'regist optin subscrib ur draw gift voucher enter receipt correct an what bbc chart',\n",
              " 'summer final fanci chat flirt sexi singl yr area get match repli summer free join optout txt stop help',\n",
              " 'clair havin borin time alon u wanna cum nite chat hope c u luv clair xx call minmoremobsemspobox po wa',\n",
              " 'bought one rington get text cost pound offer tone etc',\n",
              " 'urgent mobil xxxxxxxxx bonu caller prize nd attempt reach call asap',\n",
              " 'guarante latest nokia phone gb ipod mp player prize txt word collect tc llc ny usa p mt msgrcvd',\n",
              " 'hi luci hubbi meetin day fri b alon hotel u fanci cumin pl leav msg day luci x call minmobsmorelkpobox hp fl',\n",
              " 'account credit free text messag activ txt word credit cs www biz',\n",
              " 'sm ac jsco energi high u may know channel day ur leadership skill r strong psychic repli an w question end repli end jsco',\n",
              " 'hot live fantasi call p per min ntt ltd po box croydon cr wb nation rate call',\n",
              " 'thank vote sing along star karaok mobil free link repli sing',\n",
              " 'brand new mobil music servic live free music player arriv shortli instal phone brows content top artist',\n",
              " 'urgent mobil award bonu caller prize nd attempt contact call box qu bt nation rate',\n",
              " 'nokia get win free auction take part send nokia hg suit land row w jhl',\n",
              " 'hello orang month free access game news sport plu free text photo messag repli ye term appli www orang co uk ow',\n",
              " 'ur cash balanc current pound maxim ur cash send go p msg cc hg suit land row w j hl',\n",
              " 'sm auction brand new nokia auction today auction free join take part txt nokia hg suit land row w j hl',\n",
              " 'privat account statement show un redeem point call identifi code expir',\n",
              " 'regist subscrib yr draw gift voucher b enter receipt correct an next olymp txt an',\n",
              " 'urgent mobil number award prize guarante call land line claim valid hr ppm',\n",
              " 'rt king pro video club need help info ringtonek co uk call must club credit redeem www ringtonek co uk enjoy',\n",
              " 'u secret admir look make contact u find r reveal think ur special call',\n",
              " 'free text msg text ok credit account',\n",
              " 'select stay top british hotel noth holiday worth claim call london bx sw ss',\n",
              " 'eeri nokia tone u rpli tone titl eg tone dracula titl ghost addamsfa munster exorcist twilight www getz co uk pobox w wq p',\n",
              " 'network allow compani bill sm respons supplier shop give guarante sell b g',\n",
              " 'freemsg feelin kinda lnli hope u like keep compani jst got cam mobi wanna c pic txt repli date msg p rcv hlp stop',\n",
              " 'ur chanc win cash everi wk txt action c www movietrivia tv custcar x p wk',\n",
              " 'rgent nd attempt contact u u call b csbcm wc n xx callcost ppm mobilesvari max',\n",
              " 'hi ur lookin sauci daytim fun wiv busti marri woman free next week chat sort time janinexx call minmobsmorelkpobox hp fl',\n",
              " 'urgent tri contact u today draw show prize guarante call land line claim valid hr',\n",
              " 'monthli password wap mobsi com use wap phone pc',\n",
              " 'today vodafon number end last four digit select receiv award number match pleas call claim award',\n",
              " 'free top rington sub weekli rington get st week free send subpoli per week stop sm',\n",
              " 'sunshin quiz wkli q win top soni dvd player u know countri algarv txt ansr sp tyron',\n",
              " 'free msg sorri servic order could deliv suffici credit pleas top receiv servic',\n",
              " 'hard live chat p min choos girl connect live call cheap chat uk biggest live servic vu bcm wc n xx',\n",
              " 'wow boy r back take uk tour win vip ticket pre book vip club txt club trackmarqu ltd info vipclub u',\n",
              " 'hi mandi sullivan call hotmix fm chosen receiv easter prize draw pleas telephon claim prize transfer someon els',\n",
              " 'ur go bahama callfreefon speak live oper claim either bahama cruis cash opt txt x',\n",
              " 'someon conact date servic enter phone fanci find call landlin pobox n tf',\n",
              " 'hi ibh custom loyalti offer new nokia mobil txtauction txt word start get',\n",
              " 'sm auction nokia get win free auction take part send nokia hg suit land row w jhl',\n",
              " 'call freephon',\n",
              " 'buy space invad chanc win orig arcad game consol press game arcad std wap charg see co uk game term set purchas',\n",
              " 'loan purpos homeown tenant welcom previous refus still help call free text back help',\n",
              " ...]"
            ]
          },
          "execution_count": 59,
          "metadata": {},
          "output_type": "execute_result"
        }
      ],
      "source": [
        "corpus"
      ]
    },
    {
      "cell_type": "code",
      "execution_count": null,
      "metadata": {
        "id": "dsH-XFbBFgmf"
      },
      "outputs": [],
      "source": []
    },
    {
      "cell_type": "code",
      "execution_count": null,
      "metadata": {
        "id": "-gH9TFEpEWLK"
      },
      "outputs": [],
      "source": [
        "from sklearn.feature_extraction.text import TfidfVectorizer\n",
        "tfidf = TfidfVectorizer()\n",
        "x = tfidf.fit_transform(corpus).toarray()"
      ]
    },
    {
      "cell_type": "code",
      "execution_count": null,
      "metadata": {
        "colab": {
          "base_uri": "https://localhost:8080/"
        },
        "id": "5_MREd-lGqzx",
        "outputId": "8529e002-fab1-4c26-9a32-37dd8b4573b9"
      },
      "outputs": [
        {
          "data": {
            "text/plain": [
              "array([[0., 0., 0., ..., 0., 0., 0.],\n",
              "       [0., 0., 0., ..., 0., 0., 0.],\n",
              "       [0., 0., 0., ..., 0., 0., 0.],\n",
              "       ...,\n",
              "       [0., 0., 0., ..., 0., 0., 0.],\n",
              "       [0., 0., 0., ..., 0., 0., 0.],\n",
              "       [0., 0., 0., ..., 0., 0., 0.]])"
            ]
          },
          "execution_count": 63,
          "metadata": {},
          "output_type": "execute_result"
        }
      ],
      "source": [
        "x"
      ]
    },
    {
      "cell_type": "code",
      "execution_count": null,
      "metadata": {
        "id": "Bd14781MGDFP"
      },
      "outputs": [],
      "source": [
        "y = pd.get_dummies(data['label'])\n",
        "y = y.iloc[:,1].values"
      ]
    },
    {
      "cell_type": "code",
      "execution_count": null,
      "metadata": {
        "colab": {
          "base_uri": "https://localhost:8080/"
        },
        "id": "HidFLuSLGPpV",
        "outputId": "2bc2c719-4995-400d-cdc7-5f8c6ad6f983"
      },
      "outputs": [
        {
          "data": {
            "text/plain": [
              "array([0, 0, 0, ..., 1, 1, 1], dtype=uint8)"
            ]
          },
          "execution_count": 62,
          "metadata": {},
          "output_type": "execute_result"
        }
      ],
      "source": [
        "y"
      ]
    },
    {
      "cell_type": "code",
      "execution_count": null,
      "metadata": {
        "id": "xSYC30dzGQL5"
      },
      "outputs": [],
      "source": [
        "from sklearn.model_selection import train_test_split\n",
        "x_train, x_test, y_train, y_test = train_test_split(x, y, test_size=0.2, random_state=1)"
      ]
    },
    {
      "cell_type": "code",
      "execution_count": null,
      "metadata": {
        "id": "Mh11Zz6yGw75"
      },
      "outputs": [],
      "source": []
    },
    {
      "cell_type": "code",
      "execution_count": null,
      "metadata": {
        "id": "3mKglYKFDZ5f"
      },
      "outputs": [],
      "source": [
        "from sklearn.naive_bayes import MultinomialNB\n",
        "spam_detect_model = MultinomialNB().fit(x_train, y_train)\n",
        "y_pred_train_nb = spam_detect_model.predict(x_train)\n",
        "y_pred_test_nb = spam_detect_model.predict(x_test)"
      ]
    },
    {
      "cell_type": "code",
      "execution_count": null,
      "metadata": {
        "colab": {
          "base_uri": "https://localhost:8080/"
        },
        "id": "RnIlCh3oDZ8r",
        "outputId": "a7e373b0-4af9-415d-bd7d-89c3b67697fe"
      },
      "outputs": [
        {
          "name": "stdout",
          "output_type": "stream",
          "text": [
            "0.9857740585774059\n",
            "************************************************************************************************************************************************************************************\n",
            "0.9464882943143813\n"
          ]
        }
      ],
      "source": [
        "print(accuracy_score(y_train, y_pred_train_nb))\n",
        "print(\"******************\"*10)\n",
        "print(accuracy_score(y_test, y_pred_test_nb))"
      ]
    },
    {
      "cell_type": "code",
      "execution_count": null,
      "metadata": {
        "colab": {
          "base_uri": "https://localhost:8080/",
          "height": 480
        },
        "id": "ZlWMVgFdG5u9",
        "outputId": "f6c978ba-b325-4dbe-8677-cb496036d937"
      },
      "outputs": [
        {
          "ename": "ValueError",
          "evalue": "ignored",
          "output_type": "error",
          "traceback": [
            "\u001b[0;31m---------------------------------------------------------------------------\u001b[0m",
            "\u001b[0;31mValueError\u001b[0m                                Traceback (most recent call last)",
            "\u001b[0;32m<ipython-input-67-06b495a19913>\u001b[0m in \u001b[0;36m<cell line: 1>\u001b[0;34m()\u001b[0m\n\u001b[0;32m----> 1\u001b[0;31m \u001b[0mprint\u001b[0m\u001b[0;34m(\u001b[0m\u001b[0;34m'test1 : '\u001b[0m\u001b[0;34m,\u001b[0m \u001b[0mspam_detect_model\u001b[0m\u001b[0;34m.\u001b[0m\u001b[0mpredict\u001b[0m\u001b[0;34m(\u001b[0m\u001b[0mtest1\u001b[0m\u001b[0;34m)\u001b[0m\u001b[0;34m)\u001b[0m\u001b[0;34m\u001b[0m\u001b[0;34m\u001b[0m\u001b[0m\n\u001b[0m\u001b[1;32m      2\u001b[0m \u001b[0mprint\u001b[0m\u001b[0;34m(\u001b[0m\u001b[0;34m'test2 : '\u001b[0m\u001b[0;34m,\u001b[0m \u001b[0mspam_detect_model\u001b[0m\u001b[0;34m.\u001b[0m\u001b[0mpredict\u001b[0m\u001b[0;34m(\u001b[0m\u001b[0mtest2\u001b[0m\u001b[0;34m)\u001b[0m\u001b[0;34m)\u001b[0m\u001b[0;34m\u001b[0m\u001b[0;34m\u001b[0m\u001b[0m\n\u001b[1;32m      3\u001b[0m \u001b[0mprint\u001b[0m\u001b[0;34m(\u001b[0m\u001b[0;34m'test3 : '\u001b[0m\u001b[0;34m,\u001b[0m \u001b[0mspam_detect_model\u001b[0m\u001b[0;34m.\u001b[0m\u001b[0mpredict\u001b[0m\u001b[0;34m(\u001b[0m\u001b[0mtest3\u001b[0m\u001b[0;34m)\u001b[0m\u001b[0;34m)\u001b[0m\u001b[0;34m\u001b[0m\u001b[0;34m\u001b[0m\u001b[0m\n\u001b[1;32m      4\u001b[0m \u001b[0mprint\u001b[0m\u001b[0;34m(\u001b[0m\u001b[0;34m'test4 : '\u001b[0m\u001b[0;34m,\u001b[0m\u001b[0mspam_detect_model\u001b[0m\u001b[0;34m.\u001b[0m\u001b[0mpredict\u001b[0m\u001b[0;34m(\u001b[0m\u001b[0mtest4\u001b[0m\u001b[0;34m)\u001b[0m\u001b[0;34m)\u001b[0m\u001b[0;34m\u001b[0m\u001b[0;34m\u001b[0m\u001b[0m\n\u001b[1;32m      5\u001b[0m \u001b[0mprint\u001b[0m\u001b[0;34m(\u001b[0m\u001b[0;34m'test5 : '\u001b[0m\u001b[0;34m,\u001b[0m\u001b[0mspam_detect_model\u001b[0m\u001b[0;34m.\u001b[0m\u001b[0mpredict\u001b[0m\u001b[0;34m(\u001b[0m\u001b[0mtest5\u001b[0m\u001b[0;34m)\u001b[0m\u001b[0;34m)\u001b[0m\u001b[0;34m\u001b[0m\u001b[0;34m\u001b[0m\u001b[0m\n",
            "\u001b[0;32m/usr/local/lib/python3.9/dist-packages/sklearn/naive_bayes.py\u001b[0m in \u001b[0;36mpredict\u001b[0;34m(self, X)\u001b[0m\n\u001b[1;32m    103\u001b[0m         \"\"\"\n\u001b[1;32m    104\u001b[0m         \u001b[0mcheck_is_fitted\u001b[0m\u001b[0;34m(\u001b[0m\u001b[0mself\u001b[0m\u001b[0;34m)\u001b[0m\u001b[0;34m\u001b[0m\u001b[0;34m\u001b[0m\u001b[0m\n\u001b[0;32m--> 105\u001b[0;31m         \u001b[0mX\u001b[0m \u001b[0;34m=\u001b[0m \u001b[0mself\u001b[0m\u001b[0;34m.\u001b[0m\u001b[0m_check_X\u001b[0m\u001b[0;34m(\u001b[0m\u001b[0mX\u001b[0m\u001b[0;34m)\u001b[0m\u001b[0;34m\u001b[0m\u001b[0;34m\u001b[0m\u001b[0m\n\u001b[0m\u001b[1;32m    106\u001b[0m         \u001b[0mjll\u001b[0m \u001b[0;34m=\u001b[0m \u001b[0mself\u001b[0m\u001b[0;34m.\u001b[0m\u001b[0m_joint_log_likelihood\u001b[0m\u001b[0;34m(\u001b[0m\u001b[0mX\u001b[0m\u001b[0;34m)\u001b[0m\u001b[0;34m\u001b[0m\u001b[0;34m\u001b[0m\u001b[0m\n\u001b[1;32m    107\u001b[0m         \u001b[0;32mreturn\u001b[0m \u001b[0mself\u001b[0m\u001b[0;34m.\u001b[0m\u001b[0mclasses_\u001b[0m\u001b[0;34m[\u001b[0m\u001b[0mnp\u001b[0m\u001b[0;34m.\u001b[0m\u001b[0margmax\u001b[0m\u001b[0;34m(\u001b[0m\u001b[0mjll\u001b[0m\u001b[0;34m,\u001b[0m \u001b[0maxis\u001b[0m\u001b[0;34m=\u001b[0m\u001b[0;36m1\u001b[0m\u001b[0;34m)\u001b[0m\u001b[0;34m]\u001b[0m\u001b[0;34m\u001b[0m\u001b[0;34m\u001b[0m\u001b[0m\n",
            "\u001b[0;32m/usr/local/lib/python3.9/dist-packages/sklearn/naive_bayes.py\u001b[0m in \u001b[0;36m_check_X\u001b[0;34m(self, X)\u001b[0m\n\u001b[1;32m    577\u001b[0m     \u001b[0;32mdef\u001b[0m \u001b[0m_check_X\u001b[0m\u001b[0;34m(\u001b[0m\u001b[0mself\u001b[0m\u001b[0;34m,\u001b[0m \u001b[0mX\u001b[0m\u001b[0;34m)\u001b[0m\u001b[0;34m:\u001b[0m\u001b[0;34m\u001b[0m\u001b[0;34m\u001b[0m\u001b[0m\n\u001b[1;32m    578\u001b[0m         \u001b[0;34m\"\"\"Validate X, used only in predict* methods.\"\"\"\u001b[0m\u001b[0;34m\u001b[0m\u001b[0;34m\u001b[0m\u001b[0m\n\u001b[0;32m--> 579\u001b[0;31m         \u001b[0;32mreturn\u001b[0m \u001b[0mself\u001b[0m\u001b[0;34m.\u001b[0m\u001b[0m_validate_data\u001b[0m\u001b[0;34m(\u001b[0m\u001b[0mX\u001b[0m\u001b[0;34m,\u001b[0m \u001b[0maccept_sparse\u001b[0m\u001b[0;34m=\u001b[0m\u001b[0;34m\"csr\"\u001b[0m\u001b[0;34m,\u001b[0m \u001b[0mreset\u001b[0m\u001b[0;34m=\u001b[0m\u001b[0;32mFalse\u001b[0m\u001b[0;34m)\u001b[0m\u001b[0;34m\u001b[0m\u001b[0;34m\u001b[0m\u001b[0m\n\u001b[0m\u001b[1;32m    580\u001b[0m \u001b[0;34m\u001b[0m\u001b[0m\n\u001b[1;32m    581\u001b[0m     \u001b[0;32mdef\u001b[0m \u001b[0m_check_X_y\u001b[0m\u001b[0;34m(\u001b[0m\u001b[0mself\u001b[0m\u001b[0;34m,\u001b[0m \u001b[0mX\u001b[0m\u001b[0;34m,\u001b[0m \u001b[0my\u001b[0m\u001b[0;34m,\u001b[0m \u001b[0mreset\u001b[0m\u001b[0;34m=\u001b[0m\u001b[0;32mTrue\u001b[0m\u001b[0;34m)\u001b[0m\u001b[0;34m:\u001b[0m\u001b[0;34m\u001b[0m\u001b[0;34m\u001b[0m\u001b[0m\n",
            "\u001b[0;32m/usr/local/lib/python3.9/dist-packages/sklearn/base.py\u001b[0m in \u001b[0;36m_validate_data\u001b[0;34m(self, X, y, reset, validate_separately, **check_params)\u001b[0m\n\u001b[1;32m    563\u001b[0m             \u001b[0;32mraise\u001b[0m \u001b[0mValueError\u001b[0m\u001b[0;34m(\u001b[0m\u001b[0;34m\"Validation should be done on X, y or both.\"\u001b[0m\u001b[0;34m)\u001b[0m\u001b[0;34m\u001b[0m\u001b[0;34m\u001b[0m\u001b[0m\n\u001b[1;32m    564\u001b[0m         \u001b[0;32melif\u001b[0m \u001b[0;32mnot\u001b[0m \u001b[0mno_val_X\u001b[0m \u001b[0;32mand\u001b[0m \u001b[0mno_val_y\u001b[0m\u001b[0;34m:\u001b[0m\u001b[0;34m\u001b[0m\u001b[0;34m\u001b[0m\u001b[0m\n\u001b[0;32m--> 565\u001b[0;31m             \u001b[0mX\u001b[0m \u001b[0;34m=\u001b[0m \u001b[0mcheck_array\u001b[0m\u001b[0;34m(\u001b[0m\u001b[0mX\u001b[0m\u001b[0;34m,\u001b[0m \u001b[0minput_name\u001b[0m\u001b[0;34m=\u001b[0m\u001b[0;34m\"X\"\u001b[0m\u001b[0;34m,\u001b[0m \u001b[0;34m**\u001b[0m\u001b[0mcheck_params\u001b[0m\u001b[0;34m)\u001b[0m\u001b[0;34m\u001b[0m\u001b[0;34m\u001b[0m\u001b[0m\n\u001b[0m\u001b[1;32m    566\u001b[0m             \u001b[0mout\u001b[0m \u001b[0;34m=\u001b[0m \u001b[0mX\u001b[0m\u001b[0;34m\u001b[0m\u001b[0;34m\u001b[0m\u001b[0m\n\u001b[1;32m    567\u001b[0m         \u001b[0;32melif\u001b[0m \u001b[0mno_val_X\u001b[0m \u001b[0;32mand\u001b[0m \u001b[0;32mnot\u001b[0m \u001b[0mno_val_y\u001b[0m\u001b[0;34m:\u001b[0m\u001b[0;34m\u001b[0m\u001b[0;34m\u001b[0m\u001b[0m\n",
            "\u001b[0;32m/usr/local/lib/python3.9/dist-packages/sklearn/utils/validation.py\u001b[0m in \u001b[0;36mcheck_array\u001b[0;34m(array, accept_sparse, accept_large_sparse, dtype, order, copy, force_all_finite, ensure_2d, allow_nd, ensure_min_samples, ensure_min_features, estimator, input_name)\u001b[0m\n\u001b[1;32m    900\u001b[0m             \u001b[0;31m# If input is 1D raise error\u001b[0m\u001b[0;34m\u001b[0m\u001b[0;34m\u001b[0m\u001b[0m\n\u001b[1;32m    901\u001b[0m             \u001b[0;32mif\u001b[0m \u001b[0marray\u001b[0m\u001b[0;34m.\u001b[0m\u001b[0mndim\u001b[0m \u001b[0;34m==\u001b[0m \u001b[0;36m1\u001b[0m\u001b[0;34m:\u001b[0m\u001b[0;34m\u001b[0m\u001b[0;34m\u001b[0m\u001b[0m\n\u001b[0;32m--> 902\u001b[0;31m                 raise ValueError(\n\u001b[0m\u001b[1;32m    903\u001b[0m                     \u001b[0;34m\"Expected 2D array, got 1D array instead:\\narray={}.\\n\"\u001b[0m\u001b[0;34m\u001b[0m\u001b[0;34m\u001b[0m\u001b[0m\n\u001b[1;32m    904\u001b[0m                     \u001b[0;34m\"Reshape your data either using array.reshape(-1, 1) if \"\u001b[0m\u001b[0;34m\u001b[0m\u001b[0;34m\u001b[0m\u001b[0m\n",
            "\u001b[0;31mValueError\u001b[0m: Expected 2D array, got 1D array instead:\narray=['Hello, Hope you are doing well.'].\nReshape your data either using array.reshape(-1, 1) if your data has a single feature or array.reshape(1, -1) if it contains a single sample."
          ]
        }
      ],
      "source": [
        "print('test1 : ', spam_detect_model.predict(test1))\n",
        "print('test2 : ', spam_detect_model.predict(test2))\n",
        "print('test3 : ', spam_detect_model.predict(test3))\n",
        "print('test4 : ',spam_detect_model.predict(test4))\n",
        "print('test5 : ',spam_detect_model.predict(test5))\n",
        "print('test6 : ',spam_detect_model.predict(test6))\n",
        "print('test7 : ',spam_detect_model.predict(test7))\n",
        "print('test8 : ',spam_detect_model.predict(test8))"
      ]
    },
    {
      "cell_type": "code",
      "execution_count": null,
      "metadata": {
        "id": "Pt_bgYGrDaAA"
      },
      "outputs": [],
      "source": []
    },
    {
      "cell_type": "code",
      "execution_count": null,
      "metadata": {
        "id": "FoF_jYRLDaDa"
      },
      "outputs": [],
      "source": []
    },
    {
      "cell_type": "code",
      "execution_count": null,
      "metadata": {
        "id": "rJJItfGOA38g"
      },
      "outputs": [],
      "source": []
    },
    {
      "cell_type": "code",
      "execution_count": null,
      "metadata": {
        "id": "YiECd0gTI5z1"
      },
      "outputs": [],
      "source": [
        "rf_model = RandomForestClassifier().fit(x_train, y_train)\n",
        "y_pred_train_rf = rf_model.predict(x_train)\n",
        "y_pred_test_rf = rf_model.predict(x_test)"
      ]
    },
    {
      "cell_type": "code",
      "execution_count": null,
      "metadata": {
        "colab": {
          "base_uri": "https://localhost:8080/"
        },
        "id": "Agzgp6cFJD6k",
        "outputId": "526e0768-2645-493d-ae8b-b0d8e9df062a"
      },
      "outputs": [
        {
          "name": "stdout",
          "output_type": "stream",
          "text": [
            "1.0\n",
            "************************************************************************************************************************************************************************************\n",
            "0.9364548494983278\n"
          ]
        }
      ],
      "source": [
        "print(accuracy_score(y_train, y_pred_train_rf))\n",
        "print(\"******************\"*10)\n",
        "print(accuracy_score(y_test, y_pred_test_rf))"
      ]
    },
    {
      "cell_type": "code",
      "execution_count": null,
      "metadata": {
        "id": "3sddw0xnI528"
      },
      "outputs": [],
      "source": [
        "from sklearn.linear_model import LogisticRegression"
      ]
    },
    {
      "cell_type": "code",
      "execution_count": null,
      "metadata": {
        "id": "lIcD9eusJdak"
      },
      "outputs": [],
      "source": [
        "logit = LogisticRegression().fit(x_train, y_train)\n",
        "y_pred_train_lr = logit.predict(x_train)\n",
        "y_pred_test_lr = logit.predict(x_test)"
      ]
    },
    {
      "cell_type": "code",
      "execution_count": null,
      "metadata": {
        "colab": {
          "base_uri": "https://localhost:8080/"
        },
        "id": "iroK0JgyI56E",
        "outputId": "270edf36-cb67-4ec8-d106-5f2b29c19167"
      },
      "outputs": [
        {
          "name": "stdout",
          "output_type": "stream",
          "text": [
            "0.9748953974895398\n",
            "************************************************************************************************************************************************************************************\n",
            "0.9230769230769231\n"
          ]
        }
      ],
      "source": [
        "print(accuracy_score(y_train, y_pred_train_lr))\n",
        "print(\"******************\"*10)\n",
        "print(accuracy_score(y_test, y_pred_test_lr))"
      ]
    },
    {
      "cell_type": "code",
      "execution_count": null,
      "metadata": {
        "id": "wd8kdSQZJm7U"
      },
      "outputs": [],
      "source": []
    },
    {
      "cell_type": "code",
      "execution_count": 3,
      "metadata": {
        "id": "plhKmQw1I59h",
        "colab": {
          "base_uri": "https://localhost:8080/",
          "height": 80
        },
        "outputId": "4652ccfd-84e8-489f-d172-ee9d213a24d5"
      },
      "outputs": [
        {
          "output_type": "execute_result",
          "data": {
            "text/plain": [
              "  label                                            message  length  punct\n",
              "0   ham  Go until jurong point, crazy.. Available only ...     111      9"
            ],
            "text/html": [
              "\n",
              "  <div id=\"df-43c73eea-e516-44d0-bc65-446d18227bc5\">\n",
              "    <div class=\"colab-df-container\">\n",
              "      <div>\n",
              "<style scoped>\n",
              "    .dataframe tbody tr th:only-of-type {\n",
              "        vertical-align: middle;\n",
              "    }\n",
              "\n",
              "    .dataframe tbody tr th {\n",
              "        vertical-align: top;\n",
              "    }\n",
              "\n",
              "    .dataframe thead th {\n",
              "        text-align: right;\n",
              "    }\n",
              "</style>\n",
              "<table border=\"1\" class=\"dataframe\">\n",
              "  <thead>\n",
              "    <tr style=\"text-align: right;\">\n",
              "      <th></th>\n",
              "      <th>label</th>\n",
              "      <th>message</th>\n",
              "      <th>length</th>\n",
              "      <th>punct</th>\n",
              "    </tr>\n",
              "  </thead>\n",
              "  <tbody>\n",
              "    <tr>\n",
              "      <th>0</th>\n",
              "      <td>ham</td>\n",
              "      <td>Go until jurong point, crazy.. Available only ...</td>\n",
              "      <td>111</td>\n",
              "      <td>9</td>\n",
              "    </tr>\n",
              "  </tbody>\n",
              "</table>\n",
              "</div>\n",
              "      <button class=\"colab-df-convert\" onclick=\"convertToInteractive('df-43c73eea-e516-44d0-bc65-446d18227bc5')\"\n",
              "              title=\"Convert this dataframe to an interactive table.\"\n",
              "              style=\"display:none;\">\n",
              "        \n",
              "  <svg xmlns=\"http://www.w3.org/2000/svg\" height=\"24px\"viewBox=\"0 0 24 24\"\n",
              "       width=\"24px\">\n",
              "    <path d=\"M0 0h24v24H0V0z\" fill=\"none\"/>\n",
              "    <path d=\"M18.56 5.44l.94 2.06.94-2.06 2.06-.94-2.06-.94-.94-2.06-.94 2.06-2.06.94zm-11 1L8.5 8.5l.94-2.06 2.06-.94-2.06-.94L8.5 2.5l-.94 2.06-2.06.94zm10 10l.94 2.06.94-2.06 2.06-.94-2.06-.94-.94-2.06-.94 2.06-2.06.94z\"/><path d=\"M17.41 7.96l-1.37-1.37c-.4-.4-.92-.59-1.43-.59-.52 0-1.04.2-1.43.59L10.3 9.45l-7.72 7.72c-.78.78-.78 2.05 0 2.83L4 21.41c.39.39.9.59 1.41.59.51 0 1.02-.2 1.41-.59l7.78-7.78 2.81-2.81c.8-.78.8-2.07 0-2.86zM5.41 20L4 18.59l7.72-7.72 1.47 1.35L5.41 20z\"/>\n",
              "  </svg>\n",
              "      </button>\n",
              "      \n",
              "  <style>\n",
              "    .colab-df-container {\n",
              "      display:flex;\n",
              "      flex-wrap:wrap;\n",
              "      gap: 12px;\n",
              "    }\n",
              "\n",
              "    .colab-df-convert {\n",
              "      background-color: #E8F0FE;\n",
              "      border: none;\n",
              "      border-radius: 50%;\n",
              "      cursor: pointer;\n",
              "      display: none;\n",
              "      fill: #1967D2;\n",
              "      height: 32px;\n",
              "      padding: 0 0 0 0;\n",
              "      width: 32px;\n",
              "    }\n",
              "\n",
              "    .colab-df-convert:hover {\n",
              "      background-color: #E2EBFA;\n",
              "      box-shadow: 0px 1px 2px rgba(60, 64, 67, 0.3), 0px 1px 3px 1px rgba(60, 64, 67, 0.15);\n",
              "      fill: #174EA6;\n",
              "    }\n",
              "\n",
              "    [theme=dark] .colab-df-convert {\n",
              "      background-color: #3B4455;\n",
              "      fill: #D2E3FC;\n",
              "    }\n",
              "\n",
              "    [theme=dark] .colab-df-convert:hover {\n",
              "      background-color: #434B5C;\n",
              "      box-shadow: 0px 1px 3px 1px rgba(0, 0, 0, 0.15);\n",
              "      filter: drop-shadow(0px 1px 2px rgba(0, 0, 0, 0.3));\n",
              "      fill: #FFFFFF;\n",
              "    }\n",
              "  </style>\n",
              "\n",
              "      <script>\n",
              "        const buttonEl =\n",
              "          document.querySelector('#df-43c73eea-e516-44d0-bc65-446d18227bc5 button.colab-df-convert');\n",
              "        buttonEl.style.display =\n",
              "          google.colab.kernel.accessAllowed ? 'block' : 'none';\n",
              "\n",
              "        async function convertToInteractive(key) {\n",
              "          const element = document.querySelector('#df-43c73eea-e516-44d0-bc65-446d18227bc5');\n",
              "          const dataTable =\n",
              "            await google.colab.kernel.invokeFunction('convertToInteractive',\n",
              "                                                     [key], {});\n",
              "          if (!dataTable) return;\n",
              "\n",
              "          const docLinkHtml = 'Like what you see? Visit the ' +\n",
              "            '<a target=\"_blank\" href=https://colab.research.google.com/notebooks/data_table.ipynb>data table notebook</a>'\n",
              "            + ' to learn more about interactive tables.';\n",
              "          element.innerHTML = '';\n",
              "          dataTable['output_type'] = 'display_data';\n",
              "          await google.colab.output.renderOutput(dataTable, element);\n",
              "          const docLink = document.createElement('div');\n",
              "          docLink.innerHTML = docLinkHtml;\n",
              "          element.appendChild(docLink);\n",
              "        }\n",
              "      </script>\n",
              "    </div>\n",
              "  </div>\n",
              "  "
            ]
          },
          "metadata": {},
          "execution_count": 3
        }
      ],
      "source": [
        "df.head(1)"
      ]
    },
    {
      "cell_type": "markdown",
      "source": [
        "# BERT Model"
      ],
      "metadata": {
        "id": "XvwofuvHlL_J"
      }
    },
    {
      "cell_type": "markdown",
      "source": [
        "# https://jalammar.github.io/illustrated-bert/\n",
        "# https://jalammar.github.io/illustrated-transformer/\n",
        "# https://arxiv.org/abs/1706.03762\n"
      ],
      "metadata": {
        "id": "8nIkShPWthF8"
      }
    },
    {
      "cell_type": "code",
      "source": [
        "df['spam'] = df['label'].apply(lambda x:1 if x=='spam' else 0)"
      ],
      "metadata": {
        "id": "9YZBrOZxlOlb"
      },
      "execution_count": 4,
      "outputs": []
    },
    {
      "cell_type": "code",
      "source": [
        "df.head()"
      ],
      "metadata": {
        "colab": {
          "base_uri": "https://localhost:8080/",
          "height": 206
        },
        "id": "dFqbWCMyldK9",
        "outputId": "d950d936-96d8-414e-9d4f-afb02aac7981"
      },
      "execution_count": 5,
      "outputs": [
        {
          "output_type": "execute_result",
          "data": {
            "text/plain": [
              "  label                                            message  length  punct  \\\n",
              "0   ham  Go until jurong point, crazy.. Available only ...     111      9   \n",
              "1   ham                      Ok lar... Joking wif u oni...      29      6   \n",
              "2  spam  Free entry in 2 a wkly comp to win FA Cup fina...     155      6   \n",
              "3   ham  U dun say so early hor... U c already then say...      49      6   \n",
              "4   ham  Nah I don't think he goes to usf, he lives aro...      61      2   \n",
              "\n",
              "   spam  \n",
              "0     0  \n",
              "1     0  \n",
              "2     1  \n",
              "3     0  \n",
              "4     0  "
            ],
            "text/html": [
              "\n",
              "  <div id=\"df-6898b20a-eb7e-458d-9000-465691619cb8\">\n",
              "    <div class=\"colab-df-container\">\n",
              "      <div>\n",
              "<style scoped>\n",
              "    .dataframe tbody tr th:only-of-type {\n",
              "        vertical-align: middle;\n",
              "    }\n",
              "\n",
              "    .dataframe tbody tr th {\n",
              "        vertical-align: top;\n",
              "    }\n",
              "\n",
              "    .dataframe thead th {\n",
              "        text-align: right;\n",
              "    }\n",
              "</style>\n",
              "<table border=\"1\" class=\"dataframe\">\n",
              "  <thead>\n",
              "    <tr style=\"text-align: right;\">\n",
              "      <th></th>\n",
              "      <th>label</th>\n",
              "      <th>message</th>\n",
              "      <th>length</th>\n",
              "      <th>punct</th>\n",
              "      <th>spam</th>\n",
              "    </tr>\n",
              "  </thead>\n",
              "  <tbody>\n",
              "    <tr>\n",
              "      <th>0</th>\n",
              "      <td>ham</td>\n",
              "      <td>Go until jurong point, crazy.. Available only ...</td>\n",
              "      <td>111</td>\n",
              "      <td>9</td>\n",
              "      <td>0</td>\n",
              "    </tr>\n",
              "    <tr>\n",
              "      <th>1</th>\n",
              "      <td>ham</td>\n",
              "      <td>Ok lar... Joking wif u oni...</td>\n",
              "      <td>29</td>\n",
              "      <td>6</td>\n",
              "      <td>0</td>\n",
              "    </tr>\n",
              "    <tr>\n",
              "      <th>2</th>\n",
              "      <td>spam</td>\n",
              "      <td>Free entry in 2 a wkly comp to win FA Cup fina...</td>\n",
              "      <td>155</td>\n",
              "      <td>6</td>\n",
              "      <td>1</td>\n",
              "    </tr>\n",
              "    <tr>\n",
              "      <th>3</th>\n",
              "      <td>ham</td>\n",
              "      <td>U dun say so early hor... U c already then say...</td>\n",
              "      <td>49</td>\n",
              "      <td>6</td>\n",
              "      <td>0</td>\n",
              "    </tr>\n",
              "    <tr>\n",
              "      <th>4</th>\n",
              "      <td>ham</td>\n",
              "      <td>Nah I don't think he goes to usf, he lives aro...</td>\n",
              "      <td>61</td>\n",
              "      <td>2</td>\n",
              "      <td>0</td>\n",
              "    </tr>\n",
              "  </tbody>\n",
              "</table>\n",
              "</div>\n",
              "      <button class=\"colab-df-convert\" onclick=\"convertToInteractive('df-6898b20a-eb7e-458d-9000-465691619cb8')\"\n",
              "              title=\"Convert this dataframe to an interactive table.\"\n",
              "              style=\"display:none;\">\n",
              "        \n",
              "  <svg xmlns=\"http://www.w3.org/2000/svg\" height=\"24px\"viewBox=\"0 0 24 24\"\n",
              "       width=\"24px\">\n",
              "    <path d=\"M0 0h24v24H0V0z\" fill=\"none\"/>\n",
              "    <path d=\"M18.56 5.44l.94 2.06.94-2.06 2.06-.94-2.06-.94-.94-2.06-.94 2.06-2.06.94zm-11 1L8.5 8.5l.94-2.06 2.06-.94-2.06-.94L8.5 2.5l-.94 2.06-2.06.94zm10 10l.94 2.06.94-2.06 2.06-.94-2.06-.94-.94-2.06-.94 2.06-2.06.94z\"/><path d=\"M17.41 7.96l-1.37-1.37c-.4-.4-.92-.59-1.43-.59-.52 0-1.04.2-1.43.59L10.3 9.45l-7.72 7.72c-.78.78-.78 2.05 0 2.83L4 21.41c.39.39.9.59 1.41.59.51 0 1.02-.2 1.41-.59l7.78-7.78 2.81-2.81c.8-.78.8-2.07 0-2.86zM5.41 20L4 18.59l7.72-7.72 1.47 1.35L5.41 20z\"/>\n",
              "  </svg>\n",
              "      </button>\n",
              "      \n",
              "  <style>\n",
              "    .colab-df-container {\n",
              "      display:flex;\n",
              "      flex-wrap:wrap;\n",
              "      gap: 12px;\n",
              "    }\n",
              "\n",
              "    .colab-df-convert {\n",
              "      background-color: #E8F0FE;\n",
              "      border: none;\n",
              "      border-radius: 50%;\n",
              "      cursor: pointer;\n",
              "      display: none;\n",
              "      fill: #1967D2;\n",
              "      height: 32px;\n",
              "      padding: 0 0 0 0;\n",
              "      width: 32px;\n",
              "    }\n",
              "\n",
              "    .colab-df-convert:hover {\n",
              "      background-color: #E2EBFA;\n",
              "      box-shadow: 0px 1px 2px rgba(60, 64, 67, 0.3), 0px 1px 3px 1px rgba(60, 64, 67, 0.15);\n",
              "      fill: #174EA6;\n",
              "    }\n",
              "\n",
              "    [theme=dark] .colab-df-convert {\n",
              "      background-color: #3B4455;\n",
              "      fill: #D2E3FC;\n",
              "    }\n",
              "\n",
              "    [theme=dark] .colab-df-convert:hover {\n",
              "      background-color: #434B5C;\n",
              "      box-shadow: 0px 1px 3px 1px rgba(0, 0, 0, 0.15);\n",
              "      filter: drop-shadow(0px 1px 2px rgba(0, 0, 0, 0.3));\n",
              "      fill: #FFFFFF;\n",
              "    }\n",
              "  </style>\n",
              "\n",
              "      <script>\n",
              "        const buttonEl =\n",
              "          document.querySelector('#df-6898b20a-eb7e-458d-9000-465691619cb8 button.colab-df-convert');\n",
              "        buttonEl.style.display =\n",
              "          google.colab.kernel.accessAllowed ? 'block' : 'none';\n",
              "\n",
              "        async function convertToInteractive(key) {\n",
              "          const element = document.querySelector('#df-6898b20a-eb7e-458d-9000-465691619cb8');\n",
              "          const dataTable =\n",
              "            await google.colab.kernel.invokeFunction('convertToInteractive',\n",
              "                                                     [key], {});\n",
              "          if (!dataTable) return;\n",
              "\n",
              "          const docLinkHtml = 'Like what you see? Visit the ' +\n",
              "            '<a target=\"_blank\" href=https://colab.research.google.com/notebooks/data_table.ipynb>data table notebook</a>'\n",
              "            + ' to learn more about interactive tables.';\n",
              "          element.innerHTML = '';\n",
              "          dataTable['output_type'] = 'display_data';\n",
              "          await google.colab.output.renderOutput(dataTable, element);\n",
              "          const docLink = document.createElement('div');\n",
              "          docLink.innerHTML = docLinkHtml;\n",
              "          element.appendChild(docLink);\n",
              "        }\n",
              "      </script>\n",
              "    </div>\n",
              "  </div>\n",
              "  "
            ]
          },
          "metadata": {},
          "execution_count": 5
        }
      ]
    },
    {
      "cell_type": "code",
      "source": [
        "df['spam'].value_counts()"
      ],
      "metadata": {
        "colab": {
          "base_uri": "https://localhost:8080/"
        },
        "id": "wyubk1dFmFlq",
        "outputId": "44ec2b5f-5c8b-40ee-e34d-2f5163878587"
      },
      "execution_count": 9,
      "outputs": [
        {
          "output_type": "execute_result",
          "data": {
            "text/plain": [
              "0    4825\n",
              "1     747\n",
              "Name: spam, dtype: int64"
            ]
          },
          "metadata": {},
          "execution_count": 9
        }
      ]
    },
    {
      "cell_type": "code",
      "source": [],
      "metadata": {
        "id": "6jYi8uULmIK3"
      },
      "execution_count": null,
      "outputs": []
    },
    {
      "cell_type": "code",
      "source": [
        "from sklearn.model_selection import train_test_split\n",
        "x_train, x_test, y_train, y_test = train_test_split(df['message'], df['spam'], stratify=df['spam'])"
      ],
      "metadata": {
        "id": "KftbYeXIle9w"
      },
      "execution_count": 6,
      "outputs": []
    },
    {
      "cell_type": "code",
      "source": [
        "x_train.head()"
      ],
      "metadata": {
        "colab": {
          "base_uri": "https://localhost:8080/"
        },
        "id": "Aemwkez_lOpZ",
        "outputId": "dd540fe2-7d4f-432d-c773-ed3b0bdb7440"
      },
      "execution_count": 7,
      "outputs": [
        {
          "output_type": "execute_result",
          "data": {
            "text/plain": [
              "5261    I absolutely LOVE South Park! I only recently ...\n",
              "4998                         Esplanade lor. Where else...\n",
              "3291    My tuition is at 330. Hm we go for the 1120 to...\n",
              "846     Meanwhile in the shit suite: xavier decided to...\n",
              "256     Don't necessarily expect it to be done before ...\n",
              "Name: message, dtype: object"
            ]
          },
          "metadata": {},
          "execution_count": 7
        }
      ]
    },
    {
      "cell_type": "code",
      "source": [
        "print(x_train.shape, x_test.shape, y_train.shape, y_test.shape)"
      ],
      "metadata": {
        "colab": {
          "base_uri": "https://localhost:8080/"
        },
        "id": "5IknaOXPl5Ar",
        "outputId": "289cda12-61b6-4a0b-9298-89b8db032335"
      },
      "execution_count": 8,
      "outputs": [
        {
          "output_type": "stream",
          "name": "stdout",
          "text": [
            "(4179,) (1393,) (4179,) (1393,)\n"
          ]
        }
      ]
    },
    {
      "cell_type": "code",
      "source": [
        "!pip install tensorflow-text"
      ],
      "metadata": {
        "colab": {
          "base_uri": "https://localhost:8080/"
        },
        "id": "tKk4b0JbmvQw",
        "outputId": "af305ea4-f028-4f7d-d5c7-49d3761fe4bf"
      },
      "execution_count": 11,
      "outputs": [
        {
          "output_type": "stream",
          "name": "stdout",
          "text": [
            "Looking in indexes: https://pypi.org/simple, https://us-python.pkg.dev/colab-wheels/public/simple/\n",
            "Collecting tensorflow-text\n",
            "  Downloading tensorflow_text-2.12.1-cp39-cp39-manylinux_2_17_x86_64.manylinux2014_x86_64.whl (6.0 MB)\n",
            "\u001b[2K     \u001b[90m━━━━━━━━━━━━━━━━━━━━━━━━━━━━━━━━━━━━━━━━\u001b[0m \u001b[32m6.0/6.0 MB\u001b[0m \u001b[31m68.7 MB/s\u001b[0m eta \u001b[36m0:00:00\u001b[0m\n",
            "\u001b[?25hRequirement already satisfied: tensorflow<2.13,>=2.12.0 in /usr/local/lib/python3.9/dist-packages (from tensorflow-text) (2.12.0)\n",
            "Requirement already satisfied: tensorflow-hub>=0.8.0 in /usr/local/lib/python3.9/dist-packages (from tensorflow-text) (0.13.0)\n",
            "Requirement already satisfied: grpcio<2.0,>=1.24.3 in /usr/local/lib/python3.9/dist-packages (from tensorflow<2.13,>=2.12.0->tensorflow-text) (1.53.0)\n",
            "Requirement already satisfied: h5py>=2.9.0 in /usr/local/lib/python3.9/dist-packages (from tensorflow<2.13,>=2.12.0->tensorflow-text) (3.8.0)\n",
            "Requirement already satisfied: numpy<1.24,>=1.22 in /usr/local/lib/python3.9/dist-packages (from tensorflow<2.13,>=2.12.0->tensorflow-text) (1.22.4)\n",
            "Requirement already satisfied: google-pasta>=0.1.1 in /usr/local/lib/python3.9/dist-packages (from tensorflow<2.13,>=2.12.0->tensorflow-text) (0.2.0)\n",
            "Requirement already satisfied: absl-py>=1.0.0 in /usr/local/lib/python3.9/dist-packages (from tensorflow<2.13,>=2.12.0->tensorflow-text) (1.4.0)\n",
            "Requirement already satisfied: packaging in /usr/local/lib/python3.9/dist-packages (from tensorflow<2.13,>=2.12.0->tensorflow-text) (23.0)\n",
            "Requirement already satisfied: gast<=0.4.0,>=0.2.1 in /usr/local/lib/python3.9/dist-packages (from tensorflow<2.13,>=2.12.0->tensorflow-text) (0.4.0)\n",
            "Requirement already satisfied: protobuf!=4.21.0,!=4.21.1,!=4.21.2,!=4.21.3,!=4.21.4,!=4.21.5,<5.0.0dev,>=3.20.3 in /usr/local/lib/python3.9/dist-packages (from tensorflow<2.13,>=2.12.0->tensorflow-text) (3.20.3)\n",
            "Requirement already satisfied: tensorboard<2.13,>=2.12 in /usr/local/lib/python3.9/dist-packages (from tensorflow<2.13,>=2.12.0->tensorflow-text) (2.12.1)\n",
            "Requirement already satisfied: six>=1.12.0 in /usr/local/lib/python3.9/dist-packages (from tensorflow<2.13,>=2.12.0->tensorflow-text) (1.16.0)\n",
            "Requirement already satisfied: wrapt<1.15,>=1.11.0 in /usr/local/lib/python3.9/dist-packages (from tensorflow<2.13,>=2.12.0->tensorflow-text) (1.14.1)\n",
            "Requirement already satisfied: libclang>=13.0.0 in /usr/local/lib/python3.9/dist-packages (from tensorflow<2.13,>=2.12.0->tensorflow-text) (16.0.0)\n",
            "Requirement already satisfied: tensorflow-estimator<2.13,>=2.12.0 in /usr/local/lib/python3.9/dist-packages (from tensorflow<2.13,>=2.12.0->tensorflow-text) (2.12.0)\n",
            "Requirement already satisfied: termcolor>=1.1.0 in /usr/local/lib/python3.9/dist-packages (from tensorflow<2.13,>=2.12.0->tensorflow-text) (2.2.0)\n",
            "Requirement already satisfied: astunparse>=1.6.0 in /usr/local/lib/python3.9/dist-packages (from tensorflow<2.13,>=2.12.0->tensorflow-text) (1.6.3)\n",
            "Requirement already satisfied: typing-extensions>=3.6.6 in /usr/local/lib/python3.9/dist-packages (from tensorflow<2.13,>=2.12.0->tensorflow-text) (4.5.0)\n",
            "Requirement already satisfied: keras<2.13,>=2.12.0 in /usr/local/lib/python3.9/dist-packages (from tensorflow<2.13,>=2.12.0->tensorflow-text) (2.12.0)\n",
            "Requirement already satisfied: tensorflow-io-gcs-filesystem>=0.23.1 in /usr/local/lib/python3.9/dist-packages (from tensorflow<2.13,>=2.12.0->tensorflow-text) (0.32.0)\n",
            "Requirement already satisfied: jax>=0.3.15 in /usr/local/lib/python3.9/dist-packages (from tensorflow<2.13,>=2.12.0->tensorflow-text) (0.4.8)\n",
            "Requirement already satisfied: opt-einsum>=2.3.2 in /usr/local/lib/python3.9/dist-packages (from tensorflow<2.13,>=2.12.0->tensorflow-text) (3.3.0)\n",
            "Requirement already satisfied: setuptools in /usr/local/lib/python3.9/dist-packages (from tensorflow<2.13,>=2.12.0->tensorflow-text) (67.6.1)\n",
            "Requirement already satisfied: flatbuffers>=2.0 in /usr/local/lib/python3.9/dist-packages (from tensorflow<2.13,>=2.12.0->tensorflow-text) (23.3.3)\n",
            "Requirement already satisfied: wheel<1.0,>=0.23.0 in /usr/local/lib/python3.9/dist-packages (from astunparse>=1.6.0->tensorflow<2.13,>=2.12.0->tensorflow-text) (0.40.0)\n",
            "Requirement already satisfied: scipy>=1.7 in /usr/local/lib/python3.9/dist-packages (from jax>=0.3.15->tensorflow<2.13,>=2.12.0->tensorflow-text) (1.10.1)\n",
            "Requirement already satisfied: ml-dtypes>=0.0.3 in /usr/local/lib/python3.9/dist-packages (from jax>=0.3.15->tensorflow<2.13,>=2.12.0->tensorflow-text) (0.0.4)\n",
            "Requirement already satisfied: requests<3,>=2.21.0 in /usr/local/lib/python3.9/dist-packages (from tensorboard<2.13,>=2.12->tensorflow<2.13,>=2.12.0->tensorflow-text) (2.27.1)\n",
            "Requirement already satisfied: google-auth-oauthlib<1.1,>=0.5 in /usr/local/lib/python3.9/dist-packages (from tensorboard<2.13,>=2.12->tensorflow<2.13,>=2.12.0->tensorflow-text) (1.0.0)\n",
            "Requirement already satisfied: tensorboard-plugin-wit>=1.6.0 in /usr/local/lib/python3.9/dist-packages (from tensorboard<2.13,>=2.12->tensorflow<2.13,>=2.12.0->tensorflow-text) (1.8.1)\n",
            "Requirement already satisfied: werkzeug>=1.0.1 in /usr/local/lib/python3.9/dist-packages (from tensorboard<2.13,>=2.12->tensorflow<2.13,>=2.12.0->tensorflow-text) (2.2.3)\n",
            "Requirement already satisfied: tensorboard-data-server<0.8.0,>=0.7.0 in /usr/local/lib/python3.9/dist-packages (from tensorboard<2.13,>=2.12->tensorflow<2.13,>=2.12.0->tensorflow-text) (0.7.0)\n",
            "Requirement already satisfied: google-auth<3,>=1.6.3 in /usr/local/lib/python3.9/dist-packages (from tensorboard<2.13,>=2.12->tensorflow<2.13,>=2.12.0->tensorflow-text) (2.17.2)\n",
            "Requirement already satisfied: markdown>=2.6.8 in /usr/local/lib/python3.9/dist-packages (from tensorboard<2.13,>=2.12->tensorflow<2.13,>=2.12.0->tensorflow-text) (3.4.3)\n",
            "Requirement already satisfied: pyasn1-modules>=0.2.1 in /usr/local/lib/python3.9/dist-packages (from google-auth<3,>=1.6.3->tensorboard<2.13,>=2.12->tensorflow<2.13,>=2.12.0->tensorflow-text) (0.2.8)\n",
            "Requirement already satisfied: rsa<5,>=3.1.4 in /usr/local/lib/python3.9/dist-packages (from google-auth<3,>=1.6.3->tensorboard<2.13,>=2.12->tensorflow<2.13,>=2.12.0->tensorflow-text) (4.9)\n",
            "Requirement already satisfied: cachetools<6.0,>=2.0.0 in /usr/local/lib/python3.9/dist-packages (from google-auth<3,>=1.6.3->tensorboard<2.13,>=2.12->tensorflow<2.13,>=2.12.0->tensorflow-text) (5.3.0)\n",
            "Requirement already satisfied: requests-oauthlib>=0.7.0 in /usr/local/lib/python3.9/dist-packages (from google-auth-oauthlib<1.1,>=0.5->tensorboard<2.13,>=2.12->tensorflow<2.13,>=2.12.0->tensorflow-text) (1.3.1)\n",
            "Requirement already satisfied: importlib-metadata>=4.4 in /usr/local/lib/python3.9/dist-packages (from markdown>=2.6.8->tensorboard<2.13,>=2.12->tensorflow<2.13,>=2.12.0->tensorflow-text) (6.3.0)\n",
            "Requirement already satisfied: urllib3<1.27,>=1.21.1 in /usr/local/lib/python3.9/dist-packages (from requests<3,>=2.21.0->tensorboard<2.13,>=2.12->tensorflow<2.13,>=2.12.0->tensorflow-text) (1.26.15)\n",
            "Requirement already satisfied: certifi>=2017.4.17 in /usr/local/lib/python3.9/dist-packages (from requests<3,>=2.21.0->tensorboard<2.13,>=2.12->tensorflow<2.13,>=2.12.0->tensorflow-text) (2022.12.7)\n",
            "Requirement already satisfied: charset-normalizer~=2.0.0 in /usr/local/lib/python3.9/dist-packages (from requests<3,>=2.21.0->tensorboard<2.13,>=2.12->tensorflow<2.13,>=2.12.0->tensorflow-text) (2.0.12)\n",
            "Requirement already satisfied: idna<4,>=2.5 in /usr/local/lib/python3.9/dist-packages (from requests<3,>=2.21.0->tensorboard<2.13,>=2.12->tensorflow<2.13,>=2.12.0->tensorflow-text) (3.4)\n",
            "Requirement already satisfied: MarkupSafe>=2.1.1 in /usr/local/lib/python3.9/dist-packages (from werkzeug>=1.0.1->tensorboard<2.13,>=2.12->tensorflow<2.13,>=2.12.0->tensorflow-text) (2.1.2)\n",
            "Requirement already satisfied: zipp>=0.5 in /usr/local/lib/python3.9/dist-packages (from importlib-metadata>=4.4->markdown>=2.6.8->tensorboard<2.13,>=2.12->tensorflow<2.13,>=2.12.0->tensorflow-text) (3.15.0)\n",
            "Requirement already satisfied: pyasn1<0.5.0,>=0.4.6 in /usr/local/lib/python3.9/dist-packages (from pyasn1-modules>=0.2.1->google-auth<3,>=1.6.3->tensorboard<2.13,>=2.12->tensorflow<2.13,>=2.12.0->tensorflow-text) (0.4.8)\n",
            "Requirement already satisfied: oauthlib>=3.0.0 in /usr/local/lib/python3.9/dist-packages (from requests-oauthlib>=0.7.0->google-auth-oauthlib<1.1,>=0.5->tensorboard<2.13,>=2.12->tensorflow<2.13,>=2.12.0->tensorflow-text) (3.2.2)\n",
            "Installing collected packages: tensorflow-text\n",
            "Successfully installed tensorflow-text-2.12.1\n"
          ]
        }
      ]
    },
    {
      "cell_type": "code",
      "source": [
        "import tensorflow_hub as hub\n",
        "import tensorflow_text as text"
      ],
      "metadata": {
        "id": "3Pxgx6jFmyLQ"
      },
      "execution_count": 12,
      "outputs": []
    },
    {
      "cell_type": "code",
      "source": [
        "bert_encoder = hub.KerasLayer('https://tfhub.dev/tensorflow/bert_en_uncased_L-12_H-768_A-12/4')\n",
        "bert_preprocess = hub.KerasLayer('https://tfhub.dev/tensorflow/bert_en_uncased_preprocess/3') "
      ],
      "metadata": {
        "id": "hA70JLC-mBY4"
      },
      "execution_count": 13,
      "outputs": []
    },
    {
      "cell_type": "code",
      "source": [
        "def get_sentence_embedding(sentences):\n",
        "  preprocessed_text = bert_preprocess(sentences)\n",
        "  return bert_encoder(preprocessed_text)['pooled_output']\n",
        "\n"
      ],
      "metadata": {
        "id": "k6Nnpj9tlOsw"
      },
      "execution_count": 14,
      "outputs": []
    },
    {
      "cell_type": "code",
      "source": [
        "get_sentence_embedding([\"$500 discount, hurry up!!!\", \"YOY, you are the champ for this match\"])"
      ],
      "metadata": {
        "colab": {
          "base_uri": "https://localhost:8080/"
        },
        "id": "Cv4HGBWHlOvs",
        "outputId": "2c36d70c-ed8d-4739-8bfd-faef2d64cf52"
      },
      "execution_count": 15,
      "outputs": [
        {
          "output_type": "execute_result",
          "data": {
            "text/plain": [
              "<tf.Tensor: shape=(2, 768), dtype=float32, numpy=\n",
              "array([[-0.8059573 , -0.5281961 , -0.917793  , ..., -0.69493204,\n",
              "        -0.78063184,  0.8928221 ],\n",
              "       [-0.71438736, -0.2916993 , -0.43253002, ..., -0.18625641,\n",
              "        -0.53961587,  0.79899067]], dtype=float32)>"
            ]
          },
          "metadata": {},
          "execution_count": 15
        }
      ]
    },
    {
      "cell_type": "code",
      "source": [
        "e = get_sentence_embedding([\"banana\",\"grapes\", \"mango\",\"Geoffrey Hinton\",\"Yaun Lecun\",\n",
        "                            \"Elon Musk\",\"Bill Gates\"])"
      ],
      "metadata": {
        "id": "BfCx7bvhn2Rg"
      },
      "execution_count": 16,
      "outputs": []
    },
    {
      "cell_type": "code",
      "source": [
        "e"
      ],
      "metadata": {
        "colab": {
          "base_uri": "https://localhost:8080/"
        },
        "id": "rstxpf3wlOyV",
        "outputId": "be04088e-cc96-41cd-c4fb-7f34d4c85093"
      },
      "execution_count": 17,
      "outputs": [
        {
          "output_type": "execute_result",
          "data": {
            "text/plain": [
              "<tf.Tensor: shape=(7, 768), dtype=float32, numpy=\n",
              "array([[-0.7606917 , -0.14219393,  0.4960462 , ...,  0.42165324,\n",
              "        -0.532214  ,  0.8031217 ],\n",
              "       [-0.86023223, -0.21242943,  0.49156877, ...,  0.39798015,\n",
              "        -0.60506296,  0.8447165 ],\n",
              "       [-0.712886  , -0.15463887,  0.3840176 , ...,  0.35278794,\n",
              "        -0.5099132 ,  0.73474073],\n",
              "       ...,\n",
              "       [-0.88475657, -0.3963472 , -0.7455591 , ..., -0.4634953 ,\n",
              "        -0.68817234,  0.86344403],\n",
              "       [-0.75041294, -0.26812574, -0.266895  , ...,  0.02839473,\n",
              "        -0.5938095 ,  0.7974982 ],\n",
              "       [-0.7854436 , -0.2994969 ,  0.41027337, ...,  0.52225375,\n",
              "        -0.49573565,  0.8150751 ]], dtype=float32)>"
            ]
          },
          "metadata": {},
          "execution_count": 17
        }
      ]
    },
    {
      "cell_type": "code",
      "source": [
        "from sklearn.metrics.pairwise import cosine_similarity"
      ],
      "metadata": {
        "id": "KJdH915JoOiE"
      },
      "execution_count": 18,
      "outputs": []
    },
    {
      "cell_type": "code",
      "source": [
        "cosine_similarity([e[0]],[e[1]])"
      ],
      "metadata": {
        "colab": {
          "base_uri": "https://localhost:8080/"
        },
        "id": "rhs1OsqYobrZ",
        "outputId": "24df16ca-4ccb-461d-a365-5263e2d5d1cd"
      },
      "execution_count": 21,
      "outputs": [
        {
          "output_type": "execute_result",
          "data": {
            "text/plain": [
              "array([[0.9911088]], dtype=float32)"
            ]
          },
          "metadata": {},
          "execution_count": 21
        }
      ]
    },
    {
      "cell_type": "code",
      "source": [
        "cosine_similarity([e[3]],[e[4]])"
      ],
      "metadata": {
        "colab": {
          "base_uri": "https://localhost:8080/"
        },
        "id": "BMu5sfnulO1d",
        "outputId": "7067acfc-f744-4a10-cc66-23d646d636fd"
      },
      "execution_count": 23,
      "outputs": [
        {
          "output_type": "execute_result",
          "data": {
            "text/plain": [
              "array([[0.96251917]], dtype=float32)"
            ]
          },
          "metadata": {},
          "execution_count": 23
        }
      ]
    },
    {
      "cell_type": "code",
      "source": [
        "cosine_similarity([e[0]],[e[5]])"
      ],
      "metadata": {
        "colab": {
          "base_uri": "https://localhost:8080/"
        },
        "id": "DMS7u3GXlO4T",
        "outputId": "e175c2f7-22b6-4eff-9202-4f042b09d962"
      },
      "execution_count": 24,
      "outputs": [
        {
          "output_type": "execute_result",
          "data": {
            "text/plain": [
              "array([[0.8933636]], dtype=float32)"
            ]
          },
          "metadata": {},
          "execution_count": 24
        }
      ]
    },
    {
      "cell_type": "code",
      "source": [
        "import tensorflow as tf\n",
        "from tensorflow import keras"
      ],
      "metadata": {
        "id": "hIPJLRbdlO7B"
      },
      "execution_count": 27,
      "outputs": []
    },
    {
      "cell_type": "code",
      "source": [
        "text_input = keras.layers.Input(shape=(), dtype=tf.string, name='text')"
      ],
      "metadata": {
        "id": "46XVOeB7py30"
      },
      "execution_count": 29,
      "outputs": []
    },
    {
      "cell_type": "code",
      "source": [
        "preprocessed_text = bert_preprocess(text_input)\n",
        "outputs = bert_encoder(preprocessed_text)"
      ],
      "metadata": {
        "id": "n9T7BmV4qBus"
      },
      "execution_count": 30,
      "outputs": []
    },
    {
      "cell_type": "code",
      "source": [
        "# Functional Model\n",
        "nlp = keras.layers.Dropout(0.1,name='dropout')(outputs['pooled_output'])\n",
        "nlp = keras.layers.Dense(1, activation='sigmoid', name='output')(nlp)\n",
        "\n",
        "model = keras.Model(inputs=[text_input], outputs=[nlp])"
      ],
      "metadata": {
        "id": "srntg_GaqBx4"
      },
      "execution_count": 32,
      "outputs": []
    },
    {
      "cell_type": "code",
      "source": [
        "model.summary()"
      ],
      "metadata": {
        "colab": {
          "base_uri": "https://localhost:8080/"
        },
        "id": "hO8EzBOMqB00",
        "outputId": "7e7753f6-3598-4070-9865-bcd317229b95"
      },
      "execution_count": 33,
      "outputs": [
        {
          "output_type": "stream",
          "name": "stdout",
          "text": [
            "Model: \"model\"\n",
            "__________________________________________________________________________________________________\n",
            " Layer (type)                   Output Shape         Param #     Connected to                     \n",
            "==================================================================================================\n",
            " text (InputLayer)              [(None,)]            0           []                               \n",
            "                                                                                                  \n",
            " keras_layer_1 (KerasLayer)     {'input_mask': (Non  0           ['text[0][0]']                   \n",
            "                                e, 128),                                                          \n",
            "                                 'input_word_ids':                                                \n",
            "                                (None, 128),                                                      \n",
            "                                 'input_type_ids':                                                \n",
            "                                (None, 128)}                                                      \n",
            "                                                                                                  \n",
            " keras_layer (KerasLayer)       {'pooled_output': (  109482241   ['keras_layer_1[0][0]',          \n",
            "                                None, 768),                       'keras_layer_1[0][1]',          \n",
            "                                 'sequence_output':               'keras_layer_1[0][2]']          \n",
            "                                 (None, 128, 768),                                                \n",
            "                                 'default': (None,                                                \n",
            "                                768),                                                             \n",
            "                                 'encoder_outputs':                                               \n",
            "                                 [(None, 128, 768),                                               \n",
            "                                 (None, 128, 768),                                                \n",
            "                                 (None, 128, 768),                                                \n",
            "                                 (None, 128, 768),                                                \n",
            "                                 (None, 128, 768),                                                \n",
            "                                 (None, 128, 768),                                                \n",
            "                                 (None, 128, 768),                                                \n",
            "                                 (None, 128, 768),                                                \n",
            "                                 (None, 128, 768),                                                \n",
            "                                 (None, 128, 768),                                                \n",
            "                                 (None, 128, 768),                                                \n",
            "                                 (None, 128, 768)]}                                               \n",
            "                                                                                                  \n",
            " dropout (Dropout)              (None, 768)          0           ['keras_layer[0][13]']           \n",
            "                                                                                                  \n",
            " output (Dense)                 (None, 1)            769         ['dropout[0][0]']                \n",
            "                                                                                                  \n",
            "==================================================================================================\n",
            "Total params: 109,483,010\n",
            "Trainable params: 769\n",
            "Non-trainable params: 109,482,241\n",
            "__________________________________________________________________________________________________\n"
          ]
        }
      ]
    },
    {
      "cell_type": "code",
      "source": [
        "model.compile(optimizer='adam', loss='binary_crossentropy', metrics=['accuracy'])"
      ],
      "metadata": {
        "id": "Vl4J_ayEq--8"
      },
      "execution_count": 34,
      "outputs": []
    },
    {
      "cell_type": "code",
      "source": [
        "model.fit(x_train, y_train, batch_size=32, epochs=10, validation_data=(x_test, y_test))"
      ],
      "metadata": {
        "colab": {
          "base_uri": "https://localhost:8080/"
        },
        "id": "zgLxm5YzrSQd",
        "outputId": "f9214f27-afbf-4072-8de8-be66a1c8885d"
      },
      "execution_count": null,
      "outputs": [
        {
          "output_type": "stream",
          "name": "stdout",
          "text": [
            "Epoch 1/10\n",
            "131/131 [==============================] - 74s 487ms/step - loss: 0.3178 - accuracy: 0.8701 - val_loss: 0.2352 - val_accuracy: 0.8794\n",
            "Epoch 2/10\n",
            "131/131 [==============================] - 57s 434ms/step - loss: 0.2354 - accuracy: 0.8993 - val_loss: 0.1838 - val_accuracy: 0.9347\n",
            "Epoch 3/10\n",
            "131/131 [==============================] - 64s 492ms/step - loss: 0.1950 - accuracy: 0.9239 - val_loss: 0.1596 - val_accuracy: 0.9375\n",
            "Epoch 4/10\n",
            "131/131 [==============================] - 64s 491ms/step - loss: 0.1745 - accuracy: 0.9342 - val_loss: 0.1418 - val_accuracy: 0.9426\n",
            "Epoch 5/10\n",
            "131/131 [==============================] - 64s 488ms/step - loss: 0.1558 - accuracy: 0.9428 - val_loss: 0.1262 - val_accuracy: 0.9584\n",
            "Epoch 6/10\n",
            "131/131 [==============================] - 64s 488ms/step - loss: 0.1459 - accuracy: 0.9493 - val_loss: 0.1147 - val_accuracy: 0.9677\n",
            "Epoch 7/10\n",
            "131/131 [==============================] - 64s 493ms/step - loss: 0.1354 - accuracy: 0.9569 - val_loss: 0.1070 - val_accuracy: 0.9698\n",
            "Epoch 8/10\n",
            " 68/131 [==============>...............] - ETA: 22s - loss: 0.1236 - accuracy: 0.9591"
          ]
        }
      ]
    },
    {
      "cell_type": "code",
      "source": [],
      "metadata": {
        "id": "q9q9cwDIqAXL"
      },
      "execution_count": null,
      "outputs": []
    },
    {
      "cell_type": "code",
      "source": [],
      "metadata": {
        "id": "kgmnuuKspuXd"
      },
      "execution_count": null,
      "outputs": []
    },
    {
      "cell_type": "code",
      "source": [],
      "metadata": {
        "id": "XKdaNo9Fpsbv"
      },
      "execution_count": null,
      "outputs": []
    },
    {
      "cell_type": "code",
      "source": [],
      "metadata": {
        "id": "JVR6Qx4Tpdiw"
      },
      "execution_count": null,
      "outputs": []
    },
    {
      "cell_type": "code",
      "source": [],
      "metadata": {
        "id": "20ugKdAIpdmC"
      },
      "execution_count": null,
      "outputs": []
    },
    {
      "cell_type": "code",
      "source": [],
      "metadata": {
        "id": "GoLBKZ1RpdpS"
      },
      "execution_count": null,
      "outputs": []
    },
    {
      "cell_type": "code",
      "source": [],
      "metadata": {
        "id": "N01giLKNpds6"
      },
      "execution_count": null,
      "outputs": []
    },
    {
      "cell_type": "code",
      "source": [],
      "metadata": {
        "id": "Z8oDP_3qpdv5"
      },
      "execution_count": null,
      "outputs": []
    },
    {
      "cell_type": "code",
      "source": [],
      "metadata": {
        "id": "SquDaJlbpdy8"
      },
      "execution_count": null,
      "outputs": []
    }
  ],
  "metadata": {
    "accelerator": "GPU",
    "colab": {
      "provenance": []
    },
    "gpuClass": "standard",
    "kernelspec": {
      "display_name": "Python 3 (ipykernel)",
      "language": "python",
      "name": "python3"
    },
    "language_info": {
      "codemirror_mode": {
        "name": "ipython",
        "version": 3
      },
      "file_extension": ".py",
      "mimetype": "text/x-python",
      "name": "python",
      "nbconvert_exporter": "python",
      "pygments_lexer": "ipython3",
      "version": "3.9.13"
    }
  },
  "nbformat": 4,
  "nbformat_minor": 0
}